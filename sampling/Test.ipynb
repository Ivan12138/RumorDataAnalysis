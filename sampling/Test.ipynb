{
 "cells": [
  {
   "cell_type": "code",
   "execution_count": 6,
   "metadata": {},
   "outputs": [
    {
     "name": "stdout",
     "output_type": "stream",
     "text": [
      "4\n",
      "{'userId': '5500586814', 'url': 'http://weibo.com/5500586814/DngkQ6So0', 'userLocation': '山东临沂', 'userCertify': 2, 'isOrigin': True, 'mid': '3955443401639032', 'sourcePlatform': '网易', 'praise': '0', 'content': '济宁学院大一男生因分手将女友捅死 两人均19岁 - 网易临沂 http://t.cn/RGD5mF5', 'containsMusic': False, 'userurl': 'http://weibo.com/u/5500586814?refer_flag=1001030103_', 'hotrate': 0.0, 'userFollowCount': '167', 'userWeiboCount': '11318', 'containsUrl': False, 'faces': None, 'isClue': False, 'forward': '0', 'userDescription': '网易临沂频道官方网址http://ly.news.163.com/', 'containsVideo': False, 'name': '网易新闻临沂站', 'time': '1458534658000', 'weiboLocation': None, 'piclist': ['http://ww3.sinaimg.cn/large/0060fTUajw1f24diedxytj30fa08caaj.jpg'], 'comment': '0', 'userGender': 'male', 'isPiyao': False, 'userFanCount': '482'}\n",
      "{'userId': '2995514317', 'url': 'http://weibo.com/2995514317/DnhFVFznO', 'userLocation': '山东', 'userCertify': 1, 'isOrigin': True, 'mid': '3955494919907464', 'sourcePlatform': '百度分享', 'praise': '0', 'content': '山东,济宁学院大一男生因分手问题将女友捅死 两人均19岁 http://t.cn/RGD99DC', 'containsMusic': False, 'userurl': 'http://weibo.com/u/2995514317?refer_flag=1001030103_', 'hotrate': 0.0, 'userFollowCount': '780', 'userWeiboCount': '6245', 'containsUrl': False, 'faces': None, 'isClue': False, 'forward': '0', 'userDescription': '微博区域媒体人（济南）济南时报记者', 'containsVideo': False, 'name': '媒体人徐传强', 'time': '1458546941000', 'weiboLocation': None, 'piclist': [], 'comment': '1', 'userGender': 'male', 'isPiyao': False, 'userFanCount': '787'}\n",
      "{'userId': '1782394737', 'url': 'http://weibo.com/1782394737/DnfNd6B1s', 'userLocation': '北京朝阳区', 'userCertify': 2, 'isOrigin': True, 'mid': '3955422551572286', 'sourcePlatform': '微博 weibo.com', 'praise': '1', 'content': '#第一视频# 【大一男生因分手问题将女友捅死 两人均19岁】大学里面谈个恋爱,分分合合是很正常的事。不过最近在济宁学院,一名男生却因分手的问题向女生动起了刀子,酿成血案!|大一男生因... 年轻学子们，请正视分手问题，高校也请着手进行完备的心理健康教育课程！希望悲剧不再发生。', 'containsMusic': False, 'userurl': 'http://weibo.com/myv1?refer_flag=1001030103_', 'hotrate': 0.0, 'userFollowCount': '710', 'userWeiboCount': '8991', 'containsUrl': False, 'faces': None, 'isClue': False, 'forward': '3', 'userDescription': '第一视频http://www.v1.cn官方微博', 'containsVideo': False, 'name': '第一视频', 'time': '1458529687000', 'weiboLocation': None, 'piclist': ['http://ww4.sinaimg.cn/large/6a3d2f71jw1f24azcwxtkj20fa08c74o.jpg'], 'comment': '2', 'userGender': 'male', 'isPiyao': False, 'userFanCount': '1360000'}\n",
      "{'userId': '2754963993', 'url': 'http://weibo.com/2754963993/Dnffv4NDl', 'userLocation': '北京丰台区', 'userCertify': 2, 'isOrigin': True, 'mid': '3955401651144107', 'sourcePlatform': '微博 weibo.com', 'praise': '2', 'content': '【山东大一男生将女友捅死 系同班同学疑因分手】大学里面谈个恋爱，分分合合是很正常的事。不过最近在济宁学院，一名男生却因分手的问题向女生动起了刀子，酿成血案!知情人透露，被害者和凶手是同班同学，两人今年都只有19岁，之前是恋爱关系，谈了几个月，最近两人分了手。http://t.cn/RGDAORt', 'containsMusic': False, 'userurl': 'http://weibo.com/cpddaan?refer_flag=1001030103_', 'hotrate': 0.0, 'userFollowCount': '614', 'userWeiboCount': '7019', 'containsUrl': False, 'faces': None, 'isClue': False, 'forward': '0', 'userDescription': '中国警察网大案要案频道', 'containsVideo': False, 'name': '中国警察网大案要案频道', 'time': '1458524703000', 'weiboLocation': None, 'piclist': ['http://ww4.sinaimg.cn/large/a4356a19jw1f2480ck6rcj20fa08cjrt.jpg'], 'comment': '2', 'userGender': 'male', 'isPiyao': False, 'userFanCount': '36007'}\n",
      "{'userId': '2158927945', 'url': 'http://weibo.com/2158927945/Dnbfugnzg', 'userLocation': '广东', 'userCertify': 0, 'isOrigin': True, 'mid': '3955247883903846', 'sourcePlatform': 'UC浏览器Android', 'praise': '1', 'content': '大学里面谈个恋爱，分分合合是很正常的事。不过最近在济宁学院，一名男生却因分手的问题向女生动http://t.cn/RGe3C7o', 'containsMusic': False, 'userurl': 'http://weibo.com/u/2158927945?refer_flag=1001030103_', 'hotrate': 0.0, 'userFollowCount': '89', 'userWeiboCount': '1024', 'containsUrl': False, 'faces': None, 'isClue': False, 'forward': '0', 'userDescription': '#幸福因你#：希望能遇见你。并能让你真诚的笑容绽放生活的每一天。期待能与你携手穿越人生的风风雨雨。', 'containsVideo': False, 'name': '幸福百分率', 'time': '1458488043000', 'weiboLocation': None, 'piclist': ['http://ww3.sinaimg.cn/large/80aea049jw1f23r21lo5uj20dc0momze.jpg'], 'comment': '0', 'userGender': 'male', 'isPiyao': False, 'userFanCount': '74'}\n",
      "{'userId': '1861698083', 'url': 'http://weibo.com/1861698083/DnawZwTns', 'userLocation': '山东潍坊', 'userCertify': 0, 'isOrigin': True, 'mid': '3955220297839370', 'sourcePlatform': '手机新浪网', 'praise': '0', 'content': '济宁学院男生因分手将女友捅死 - 手机新浪网，唉我们宁阳的 http://t.cn/RGexWr1', 'containsMusic': False, 'userurl': 'http://weibo.com/u/1861698083?refer_flag=1001030103_', 'hotrate': 0.0, 'userFollowCount': '172', 'userWeiboCount': '900', 'containsUrl': False, 'faces': None, 'isClue': False, 'forward': '0', 'userDescription': '你永远不会独行！', 'containsVideo': False, 'name': '薛龙KOP', 'time': '1458481466000', 'weiboLocation': None, 'piclist': ['http://ww2.sinaimg.cn/large/6ef74223jw1f23nvza735j20dw07l0t1.jpg'], 'comment': '0', 'userGender': 'male', 'isPiyao': False, 'userFanCount': '175'}\n",
      "{'userId': '5342415804', 'url': 'http://weibo.com/5342415804/DnaqhsUpC', 'userLocation': '北京通州区', 'userCertify': 0, 'isOrigin': True, 'mid': '3955216136890036', 'sourcePlatform': '手机新浪网', 'praise': '0', 'content': '竟然是我们县得，真是败类//【济宁学院男生因分手问题将女友捅死 两人均19岁】 http://t.cn/RGeq5cX', 'containsMusic': False, 'userurl': 'http://weibo.com/u/5342415804?refer_flag=1001030103_', 'hotrate': 0.0, 'userFollowCount': '71', 'userWeiboCount': '2', 'containsUrl': False, 'faces': None, 'isClue': False, 'forward': '0', 'userDescription': None, 'containsVideo': False, 'name': '时光荏苒CLM', 'time': '1458480474000', 'weiboLocation': None, 'piclist': [], 'comment': '0', 'userGender': 'male', 'isPiyao': False, 'userFanCount': '1'}\n",
      "{'userId': '5178381076', 'url': 'http://weibo.com/5178381076/Dnakx8ZCw', 'userLocation': '广东深圳', 'userCertify': 1, 'isOrigin': True, 'mid': '3955212572143496', 'sourcePlatform': '360安全浏览器', 'praise': '0', 'content': '3月10号晚上在济宁学院，一名男生却因分手的问题向女生动起了刀子，酿成血案!出事的地方位于学校教学楼的走廊里，据正在教室里上自习的同学回忆，当时只听到一声尖叫！', 'containsMusic': False, 'userurl': 'http://weibo.com/u/5178381076?refer_flag=1001030103_', 'hotrate': 0.0, 'userFollowCount': '55', 'userWeiboCount': '96', 'containsUrl': False, 'faces': None, 'isClue': False, 'forward': '0', 'userDescription': '四川大学锦城学院文学与传媒系夸父网APP站长', 'containsVideo': False, 'name': '中华校园趣事', 'time': '1458479624000', 'weiboLocation': None, 'piclist': ['http://ww3.sinaimg.cn/large/005ErXtqjw1f23myhyfcoj30fa08ct94.jpg'], 'comment': '0', 'userGender': 'male', 'isPiyao': False, 'userFanCount': '335'}\n",
      "{'userId': '5105777026', 'url': 'http://weibo.com/5105777026/DnaildSYm', 'userLocation': '江苏盐城', 'userCertify': 0, 'isOrigin': True, 'mid': '3955211213309582', 'sourcePlatform': '手机新浪网', 'praise': '0', 'content': '麻痹，媒体，就算这样渣男也逃脱不了法律的惩罚//【济宁学院男生因分手问题将女友捅死 两人均19岁】 http://t.cn/RGeq5cX', 'containsMusic': False, 'userurl': 'http://weibo.com/u/5105777026?refer_flag=1001030103_', 'hotrate': 0.0, 'userFollowCount': '29', 'userWeiboCount': '10', 'containsUrl': False, 'faces': None, 'isClue': False, 'forward': '0', 'userDescription': '略略略略', 'containsVideo': False, 'name': 'Edi666', 'time': '1458479300000', 'weiboLocation': None, 'piclist': [], 'comment': '0', 'userGender': 'female', 'isPiyao': False, 'userFanCount': '15'}\n",
      "{'userId': '5146512757', 'url': 'http://weibo.com/5146512757/DnadieCZQ', 'userLocation': '辽宁沈阳', 'userCertify': 0, 'isOrigin': True, 'mid': '3955208083486498', 'sourcePlatform': '手机新浪网', 'praise': '0', 'content': '傻逼媒体//【济宁学院男生因分手问题将女友捅死 两人均19岁】 http://t.cn/RGeq5cX', 'containsMusic': False, 'userurl': 'http://weibo.com/u/5146512757?refer_flag=1001030103_', 'hotrate': 0.0, 'userFollowCount': '143', 'userWeiboCount': '508', 'containsUrl': False, 'faces': None, 'isClue': False, 'forward': '0', 'userDescription': '开始', 'containsVideo': False, 'name': '黎奥黎奥', 'time': '1458478554000', 'weiboLocation': None, 'piclist': ['http://ww3.sinaimg.cn/large/005Cif4hjw1f23mhhodwhj30dw07l0t1.jpg'], 'comment': '0', 'userGender': 'male', 'isPiyao': False, 'userFanCount': '61'}\n",
      "{'userId': '2795712210', 'url': 'http://weibo.com/2795712210/Dn990xvGi', 'userLocation': '辽宁沈阳', 'userCertify': 0, 'isOrigin': True, 'mid': '3955166987986610', 'sourcePlatform': '手机新浪网', 'praise': '0', 'content': '男的追女的女孩没同意//【济宁学院男生因分手问题将女友捅死 两人均19岁】 http://t.cn/RGeq5cX', 'containsMusic': False, 'userurl': 'http://weibo.com/u/2795712210?refer_flag=1001030103_', 'hotrate': 0.0, 'userFollowCount': '1438', 'userWeiboCount': '3104', 'containsUrl': False, 'faces': None, 'isClue': False, 'forward': '0', 'userDescription': '口淡口咸看心情，三观节操早随风', 'containsVideo': False, 'name': '盐老板最近比较咸', 'time': '1458468756000', 'weiboLocation': None, 'piclist': ['http://ww4.sinaimg.cn/large/a6a32ed2jw1f23hrkj8f5j20dw07l74l.jpg'], 'comment': '1', 'userGender': 'female', 'isPiyao': False, 'userFanCount': '149'}\n",
      "{'userId': '1896650227', 'url': 'http://weibo.com/1896650227/Dn8tO1wE4', 'userLocation': '北京', 'userCertify': 2, 'isOrigin': True, 'mid': '3955141440363820', 'sourcePlatform': '微博 weibo.com', 'praise': '4', 'content': '【山东大一男生因分手问题将女友捅死 两人均19岁】3月10号晚,山东济宁学院一男生因分手问题向女生动起刀子,女生当场死亡。当时同学们在上自习,只听到教学楼走廊里一声尖叫……据了解,被害者和凶手是同班同学,今年都只有19岁,刚刚大一,之前是恋爱关系,最近两人分了手。(齐鲁网) http://t.cn/RGeZjq5', 'containsMusic': False, 'userurl': 'http://weibo.com/zhengyiwang?refer_flag=1001030103_', 'hotrate': 0.0, 'userFollowCount': '990', 'userWeiboCount': '34902', 'containsUrl': False, 'faces': None, 'isClue': False, 'forward': '8', 'userDescription': '最高人民检察院主管、检察日报社主办——正义网官方微博', 'containsVideo': False, 'name': '正义网', 'time': '1458462665000', 'weiboLocation': None, 'piclist': ['http://ww3.sinaimg.cn/large/710c95f3jw1f23etq3hvcj20fa08c0t4.jpg'], 'comment': '13', 'userGender': 'male', 'isPiyao': False, 'userFanCount': '730000'}\n",
      "{'userId': '1642030665', 'url': 'http://weibo.com/1642030665/Dn8tlD5BV', 'userLocation': '重庆渝北区', 'userCertify': 2, 'isOrigin': True, 'mid': '3955141159316363', 'sourcePlatform': 'iPhone 5s', 'praise': '3', 'content': '如果爱，非要以牺牲别人的生命来证明，那就不是爱，是自私！最近在济宁学院，一名19岁的大一男生因分手的问题，在楼道里向女生动起了刀子，酿成血案!当时同学们正在教室里上自习，只听到一声尖叫……', 'containsMusic': False, 'userurl': 'http://weibo.com/ijiaren?refer_flag=1001030103_', 'hotrate': 0.0, 'userFollowCount': '2009', 'userWeiboCount': '35868', 'containsUrl': False, 'faces': None, 'isClue': False, 'forward': '1', 'userDescription': '《家人》杂志官方微博', 'containsVideo': False, 'name': '家人杂志', 'time': '1458462598000', 'weiboLocation': None, 'piclist': ['http://ww4.sinaimg.cn/large/61df6649gw1f23eseu2tej20zk0qowfi.jpg'], 'comment': '1', 'userGender': 'female', 'isPiyao': False, 'userFanCount': '3400000'}\n",
      "{'userId': '3095469447', 'url': 'http://weibo.com/3095469447/Dn73KwWLM', 'userLocation': '山东济宁', 'userCertify': 0, 'isOrigin': True, 'mid': '3955086847625614', 'sourcePlatform': '魅族 MX4 Pro', 'praise': '0', 'content': '@yimi小米 『济宁学院大一男生因分手问题将女友捅死 两人均19岁__齐鲁网』http://t.cn/RGePeby', 'containsMusic': False, 'userurl': 'http://weibo.com/u/3095469447?refer_flag=1001030103_', 'hotrate': 0.0, 'userFollowCount': '91', 'userWeiboCount': '307', 'containsUrl': False, 'faces': None, 'isClue': False, 'forward': '2', 'userDescription': None, 'containsVideo': False, 'name': '一头小Donkey', 'time': '1458449649000', 'weiboLocation': None, 'piclist': [], 'comment': '2', 'userGender': 'male', 'isPiyao': False, 'userFanCount': '112'}\n",
      "{'userId': '1828460900', 'url': 'http://weibo.com/1828460900/Dn6lZ1ToA', 'userLocation': '山东济宁', 'userCertify': 0, 'isOrigin': True, 'mid': '3955059710451272', 'sourcePlatform': 'iPhone客户端', 'praise': '1', 'content': '『济宁学院大一男生因分手问题将女友捅死 两人均19岁__齐鲁网』http://t.cn/RGePeby', 'containsMusic': False, 'userurl': 'http://weibo.com/u/1828460900?refer_flag=1001030103_', 'hotrate': 0.0, 'userFollowCount': '117', 'userWeiboCount': '2454', 'containsUrl': False, 'faces': None, 'isClue': False, 'forward': '0', 'userDescription': None, 'containsVideo': False, 'name': 'sourire-toujours', 'time': '1458443179000', 'weiboLocation': None, 'piclist': [], 'comment': '0', 'userGender': 'female', 'isPiyao': False, 'userFanCount': '93'}\n",
      "{'userId': '2779365414', 'url': 'http://weibo.com/2779365414/Dn5Mutiou', 'userLocation': '福建泉州', 'userCertify': 0, 'isOrigin': True, 'mid': '3955037706982222', 'sourcePlatform': '并读', 'praise': '0', 'content': '分享@并读 ：【山东大一男生因分手问题将女友捅死 两人均19岁】神经病//两人是同班同学，均19岁（视频截图） 大学里面谈个恋爱，分分合合是很正常的事。不过最近在济宁学院，一名男生却因分手的问题向女生动起了刀子，...http://t.cn/RGehc8B', 'containsMusic': False, 'userurl': 'http://weibo.com/u/2779365414?refer_flag=1001030103_', 'hotrate': 0.0, 'userFollowCount': '202', 'userWeiboCount': '2949', 'containsUrl': False, 'faces': None, 'isClue': False, 'forward': '1', 'userDescription': '幸福如人饮水，冷暖自知。不要惊动他人的幸福，幸福也是一个人的隐私。在你眼中看的是一种苦难，在别人的心里也许正是一种幸福。', 'containsVideo': False, 'name': '睡睡睡睡睡睡念', 'time': '1458437933000', 'weiboLocation': None, 'piclist': ['http://ww3.sinaimg.cn/large/a5a9c026jw1f232x1ramzj20fa08c0tp.jpg'], 'comment': '0', 'userGender': 'female', 'isPiyao': False, 'userFanCount': '62'}\n",
      "{'userId': '1909867147', 'url': 'http://weibo.com/1909867147/Dn5sFyVda', 'userLocation': '浙江杭州', 'userCertify': 2, 'isOrigin': True, 'mid': '3955025418323076', 'sourcePlatform': '微博 weibo.com', 'praise': '0', 'content': '#中警在线# 【山东大一男生因分手问题将女友捅死 两人均19岁】http://t.cn/RGev4gX  大学里面谈个恋爱，分分合合是很正常的事。不过最近在济宁学院，一名男生却因分手的问题向女生动起了刀子，酿成血案！', 'containsMusic': False, 'userurl': 'http://weibo.com/cpe110?refer_flag=1001030103_', 'hotrate': 0.0, 'userFollowCount': '1818', 'userWeiboCount': '37429', 'containsUrl': False, 'faces': None, 'isClue': False, 'forward': '0', 'userDescription': '中国特种装备网网站http://www.tezhongzhuangbei.com官方微博', 'containsVideo': False, 'name': '中国特种装备网', 'time': '1458435003000', 'weiboLocation': None, 'piclist': ['http://ww1.sinaimg.cn/large/71d6428bjw1f22znyd5iwj20fa08cjrs.jpg'], 'comment': '1', 'userGender': 'male', 'isPiyao': False, 'userFanCount': '28556'}\n",
      "{'userId': '5307625365', 'url': 'http://weibo.com/5307625365/DmI8Pkoao', 'userLocation': '山东青岛', 'userCertify': 0, 'isOrigin': True, 'mid': '3954128994859460', 'sourcePlatform': '荣耀3X畅玩版', 'praise': '3', 'content': '正在图书馆一惊一乍的看这些恐怖电影解析，突然听到图书管理员跟男盆友打电话说济宁学院一个男生把前女友捅死后若无其事的回宿舍吃薯条打游戏可怕', 'containsMusic': False, 'userurl': 'http://weibo.com/u/5307625365?refer_flag=1001030103_', 'hotrate': 0.0, 'userFollowCount': '710', 'userWeiboCount': '1307', 'containsUrl': False, 'faces': None, 'isClue': False, 'forward': '0', 'userDescription': '微博认证：微博气人博主', 'containsVideo': False, 'name': '你看不见我的自由自在s', 'time': '1458221278000', 'weiboLocation': None, 'piclist': ['http://ww4.sinaimg.cn/large/005NcfOJjw1f206jwxp2bj30qo0zhwkb.jpg'], 'comment': '0', 'userGender': 'female', 'isPiyao': False, 'userFanCount': '244'}\n"
     ]
    }
   ],
   "source": [
    "import json\n",
    "\n",
    "with open('file/_sample_filtered_weibo_truth.txt', 'r') as src:\n",
    "    lines = src.readlines()\n",
    "    print(len(lines))\n",
    "    for line in lines:\n",
    "        event = json.loads(line)\n",
    "        weibos = event['filtered_weibo']\n",
    "        for weibo in weibos:\n",
    "            print(weibo)\n",
    "            \n",
    "        break"
   ]
  },
  {
   "cell_type": "code",
   "execution_count": null,
   "metadata": {
    "collapsed": true
   },
   "outputs": [],
   "source": []
  }
 ],
 "metadata": {
  "kernelspec": {
   "display_name": "Python 3",
   "language": "python",
   "name": "python3"
  },
  "language_info": {
   "codemirror_mode": {
    "name": "ipython",
    "version": 3
   },
   "file_extension": ".py",
   "mimetype": "text/x-python",
   "name": "python",
   "nbconvert_exporter": "python",
   "pygments_lexer": "ipython3",
   "version": "3.5.3"
  }
 },
 "nbformat": 4,
 "nbformat_minor": 2
}
