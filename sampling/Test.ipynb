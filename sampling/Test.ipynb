{
 "cells": [
  {
   "cell_type": "code",
   "execution_count": 1,
   "metadata": {
    "collapsed": true
   },
   "outputs": [],
   "source": [
    "import json\n",
    "import jieba\n",
    "from sklearn.feature_extraction.text import TfidfTransformer, CountVectorizer\n",
    "from sklearn.externals import joblib\n",
    "from sklearn import preprocessing\n",
    "import numpy as np\n",
    "\n",
    "import TfIdf_SinglePass"
   ]
  },
  {
   "cell_type": "markdown",
   "metadata": {},
   "source": [
    "## 测试4k个feature"
   ]
  },
  {
   "cell_type": "markdown",
   "metadata": {},
   "source": [
    "### 得到tf-idf"
   ]
  },
  {
   "cell_type": "code",
   "execution_count": 7,
   "metadata": {},
   "outputs": [
    {
     "name": "stdout",
     "output_type": "stream",
     "text": [
      "The size of corpus is 34611\n"
     ]
    }
   ],
   "source": [
    "def get_tf_idf_of_rumor(features_num=4000):\n",
    "    corpus = []\n",
    "    with open('file/corpus/cut_corpus_of_rumor.txt', 'r') as src:\n",
    "        lines = src.readlines()\n",
    "        for line in lines:\n",
    "            corpus.append(line)\n",
    "        print('The size of corpus is {}'.format(len(corpus)))\n",
    "\n",
    "    vectorizer = CountVectorizer(max_features=features_num)\n",
    "    transformer = TfidfTransformer()\n",
    "    tf_idf = transformer.fit_transform(vectorizer.fit_transform(corpus))\n",
    "    vocabulary = vectorizer.get_feature_names()\n",
    "\n",
    "    joblib.dump((vocabulary, tf_idf), 'file/pkl/tf_idf_of_rumor_4000.pkl')\n",
    "\n",
    "get_tf_idf_of_rumor()"
   ]
  },
  {
   "cell_type": "code",
   "execution_count": 10,
   "metadata": {},
   "outputs": [],
   "source": [
    "vocabulary, tf_idf = joblib.load('file/pkl/tf_idf_of_{}.pkl'.format('rumor_4000'))\n",
    "tf_idf_array = preprocessing.normalize(tf_idf.toarray(), norm='l2')"
   ]
  },
  {
   "cell_type": "code",
   "execution_count": 12,
   "metadata": {},
   "outputs": [],
   "source": [
    "# vocabulary[]"
   ]
  },
  {
   "cell_type": "code",
   "execution_count": 23,
   "metadata": {},
   "outputs": [
    {
     "data": {
      "text/plain": [
       "(34611, 4000)"
      ]
     },
     "execution_count": 23,
     "metadata": {},
     "output_type": "execute_result"
    }
   ],
   "source": [
    "tf_idf_array.shape"
   ]
  },
  {
   "cell_type": "markdown",
   "metadata": {},
   "source": [
    "### 查看聚类效果"
   ]
  },
  {
   "cell_type": "code",
   "execution_count": 18,
   "metadata": {
    "collapsed": true
   },
   "outputs": [],
   "source": [
    "def _clustering(category, threshold=0.6):\n",
    "    _, tf_idf = joblib.load('file/pkl/tf_idf_of_{}.pkl'.format(category))\n",
    "    tf_idf_array = preprocessing.normalize(tf_idf.toarray(), norm='l2')\n",
    "\n",
    "    single_pass_cluster = TfIdf_SinglePass.SinglePassCluster(tf_idf_array[:1000], t=threshold)\n",
    "    joblib.dump(single_pass_cluster, 'file/pkl/tf_idf_{}_clustering.pkl'.format(category))"
   ]
  },
  {
   "cell_type": "code",
   "execution_count": 22,
   "metadata": {},
   "outputs": [],
   "source": [
    "# _clustering('rumor_4000')"
   ]
  },
  {
   "cell_type": "code",
   "execution_count": 20,
   "metadata": {
    "collapsed": true
   },
   "outputs": [],
   "source": [
    "def test_on_client(category):\n",
    "    single_pass_cluster = joblib.load('file/pkl/tf_idf_{}_clustering.pkl'.format(category))\n",
    "    cluster_list = single_pass_cluster.cluster_list\n",
    "    with open('file/corpus/corpus_of_rumor.txt', 'r') as src:\n",
    "        with open('file/test_{}.txt'.format(category), 'w') as out:\n",
    "            lines = src.readlines()\n",
    "            for cluster in cluster_list:\n",
    "                for i in cluster.node_list:\n",
    "                    out.write('{}'.format(lines[i]))\n",
    "                out.write('-----------------------------------\\n')"
   ]
  },
  {
   "cell_type": "code",
   "execution_count": 21,
   "metadata": {
    "collapsed": true
   },
   "outputs": [],
   "source": [
    "test_on_client('rumor_4000')"
   ]
  },
  {
   "cell_type": "code",
   "execution_count": null,
   "metadata": {
    "collapsed": true
   },
   "outputs": [],
   "source": []
  }
 ],
 "metadata": {
  "kernelspec": {
   "display_name": "Python 3",
   "language": "python",
   "name": "python3"
  },
  "language_info": {
   "codemirror_mode": {
    "name": "ipython",
    "version": 3
   },
   "file_extension": ".py",
   "mimetype": "text/x-python",
   "name": "python",
   "nbconvert_exporter": "python",
   "pygments_lexer": "ipython3",
   "version": "3.5.3"
  }
 },
 "nbformat": 4,
 "nbformat_minor": 2
}
