{
 "cells": [
  {
   "cell_type": "code",
   "execution_count": 1,
   "metadata": {
    "collapsed": true
   },
   "outputs": [],
   "source": [
    "import cv2\n",
    "import numpy as np\n",
    "\n",
    "\n",
    "def drawMatchesKnn_cv2(img1_gray, kp1, img2_gray, kp2, goodMatch):\n",
    "    h1, w1 = img1_gray.shape[:2]\n",
    "    h2, w2 = img2_gray.shape[:2]\n",
    "\n",
    "    vis = np.zeros((max(h1, h2), w1 + w2, 3), np.uint8)\n",
    "    vis[:h1, :w1] = img1_gray\n",
    "    vis[:h2, w1:w1 + w2] = img2_gray\n",
    "\n",
    "    p1 = [kpp.queryIdx for kpp in goodMatch]\n",
    "    p2 = [kpp.trainIdx for kpp in goodMatch]\n",
    "\n",
    "    post1 = np.int32([kp1[pp].pt for pp in p1])\n",
    "    post2 = np.int32([kp2[pp].pt for pp in p2]) + (w1, 0)\n",
    "\n",
    "    for (x1, y1), (x2, y2) in zip(post1, post2):\n",
    "        cv2.line(vis, (x1, y1), (x2, y2), (0, 0, 255))\n",
    "\n",
    "    cv2.namedWindow(\"match\", cv2.WINDOW_NORMAL)\n",
    "    cv2.imshow(\"match\", vis)"
   ]
  },
  {
   "cell_type": "code",
   "execution_count": 2,
   "metadata": {
    "collapsed": true
   },
   "outputs": [],
   "source": [
    "img1_gray = cv2.imread(\"../pic_filtering_phash/sample/pic1.jpg\")\n",
    "img2_gray = cv2.imread(\"../pic_filtering_phash/sample/pic2.jpg\")"
   ]
  },
  {
   "cell_type": "code",
   "execution_count": 6,
   "metadata": {},
   "outputs": [],
   "source": [
    "# sift = cv2.SIFT()\n",
    "# sift = cv2.SURF()\n",
    "sift = cv2.xfeatures2d.SIFT_create()\n",
    "\n",
    "kp1, des1 = sift.detectAndCompute(img1_gray, None)\n",
    "kp2, des2 = sift.detectAndCompute(img2_gray, None)"
   ]
  },
  {
   "cell_type": "code",
   "execution_count": 12,
   "metadata": {},
   "outputs": [
    {
     "data": {
      "text/plain": [
       "(1917, 128)"
      ]
     },
     "execution_count": 12,
     "metadata": {},
     "output_type": "execute_result"
    }
   ],
   "source": [
    "des1.shape"
   ]
  },
  {
   "cell_type": "code",
   "execution_count": null,
   "metadata": {
    "collapsed": true
   },
   "outputs": [],
   "source": [
    "# BFmatcher with default parms\n",
    "bf = cv2.BFMatcher(cv2.NORM_L2)\n",
    "matches = bf.knnMatch(des1, des2, k=2)\n",
    "\n",
    "goodMatch = []\n",
    "for m, n in matches:\n",
    "    if m.distance < 0.50 * n.distance:\n",
    "        goodMatch.append(m)\n",
    "\n",
    "drawMatchesKnn_cv2(img1_gray, kp1, img2_gray, kp2, goodMatch[:20])\n",
    "\n",
    "cv2.waitKey(0)\n",
    "cv2.destroyAllWindows()"
   ]
  },
  {
   "cell_type": "code",
   "execution_count": null,
   "metadata": {
    "collapsed": true
   },
   "outputs": [],
   "source": []
  }
 ],
 "metadata": {
  "kernelspec": {
   "display_name": "Python 3",
   "language": "python",
   "name": "python3"
  },
  "language_info": {
   "codemirror_mode": {
    "name": "ipython",
    "version": 3
   },
   "file_extension": ".py",
   "mimetype": "text/x-python",
   "name": "python",
   "nbconvert_exporter": "python",
   "pygments_lexer": "ipython3",
   "version": "3.5.3"
  }
 },
 "nbformat": 4,
 "nbformat_minor": 2
}
