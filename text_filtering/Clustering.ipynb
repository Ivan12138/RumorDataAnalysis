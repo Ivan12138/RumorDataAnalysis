{
 "cells": [
  {
   "cell_type": "code",
   "execution_count": 1,
   "metadata": {
    "collapsed": true
   },
   "outputs": [],
   "source": [
    "import json\n",
    "import jieba\n",
    "from sklearn.feature_extraction.text import TfidfTransformer, CountVectorizer\n",
    "from sklearn.externals import joblib\n",
    "from sklearn import preprocessing\n",
    "import numpy as np\n",
    "\n",
    "import TfIdf_SinglePass"
   ]
  },
  {
   "cell_type": "markdown",
   "metadata": {},
   "source": [
    "## 测试4k个feature"
   ]
  },
  {
   "cell_type": "markdown",
   "metadata": {},
   "source": [
    "### 得到tf-idf"
   ]
  },
  {
   "cell_type": "code",
   "execution_count": 7,
   "metadata": {},
   "outputs": [
    {
     "name": "stdout",
     "output_type": "stream",
     "text": [
      "The size of corpus is 34611\n"
     ]
    }
   ],
   "source": [
    "def get_tf_idf_of_rumor(features_num=4000):\n",
    "    corpus = []\n",
    "    with open('file/corpus/cut_corpus_of_rumor.txt', 'r') as src:\n",
    "        lines = src.readlines()\n",
    "        for line in lines:\n",
    "            corpus.append(line)\n",
    "        print('The size of corpus is {}'.format(len(corpus)))\n",
    "\n",
    "    vectorizer = CountVectorizer(max_features=features_num)\n",
    "    transformer = TfidfTransformer()\n",
    "    tf_idf = transformer.fit_transform(vectorizer.fit_transform(corpus))\n",
    "    vocabulary = vectorizer.get_feature_names()\n",
    "\n",
    "    joblib.dump((vocabulary, tf_idf), 'file/pkl/tf_idf_of_rumor_4000.pkl')\n",
    "\n",
    "get_tf_idf_of_rumor()"
   ]
  },
  {
   "cell_type": "code",
   "execution_count": 3,
   "metadata": {
    "collapsed": true
   },
   "outputs": [],
   "source": [
    "vocabulary, tf_idf = joblib.load('file/pkl/tf_idf_of_{}.pkl'.format('truth_4_fold'))\n",
    "tf_idf_array = preprocessing.normalize(tf_idf.toarray(), norm='l2')"
   ]
  },
  {
   "cell_type": "code",
   "execution_count": 12,
   "metadata": {
    "collapsed": true
   },
   "outputs": [],
   "source": [
    "# (166,3) -> 29\n",
    "# (2734, 12) -> 8954\n",
    "# (2340, 40) -> 13286\n",
    "\n",
    "# (7, 30) -> 66\n",
    "# (395, 23) -> 2695"
   ]
  },
  {
   "cell_type": "code",
   "execution_count": 4,
   "metadata": {},
   "outputs": [
    {
     "data": {
      "text/plain": [
       "(38180, 4000)"
      ]
     },
     "execution_count": 4,
     "metadata": {},
     "output_type": "execute_result"
    }
   ],
   "source": [
    "tf_idf_array.shape"
   ]
  },
  {
   "cell_type": "code",
   "execution_count": 10,
   "metadata": {},
   "outputs": [
    {
     "data": {
      "text/plain": [
       "True"
      ]
     },
     "execution_count": 10,
     "metadata": {},
     "output_type": "execute_result"
    }
   ],
   "source": [
    "'amp' in vocabulary"
   ]
  },
  {
   "cell_type": "code",
   "execution_count": 8,
   "metadata": {},
   "outputs": [
    {
     "data": {
      "text/plain": [
       "0.6393048350717826"
      ]
     },
     "execution_count": 8,
     "metadata": {},
     "output_type": "execute_result"
    }
   ],
   "source": [
    "def _cosine_similarity(vec_a, vec_b):\n",
    "    # vec_a (1, dim)-array\n",
    "    # vec_b (dim, 1)-array\n",
    "    return float(vec_a.dot(vec_b) / (np.linalg.norm(vec_a) * np.linalg.norm(vec_b)))\n",
    "\n",
    "_cosine_similarity(tf_idf_array[66], tf_idf_array[2695])"
   ]
  },
  {
   "cell_type": "markdown",
   "metadata": {},
   "source": [
    "### 查看聚类效果"
   ]
  },
  {
   "cell_type": "code",
   "execution_count": 18,
   "metadata": {
    "collapsed": true
   },
   "outputs": [],
   "source": [
    "def _clustering(category, threshold=0.6):\n",
    "    _, tf_idf = joblib.load('file/pkl/tf_idf_of_{}.pkl'.format(category))\n",
    "    tf_idf_array = preprocessing.normalize(tf_idf.toarray(), norm='l2')\n",
    "\n",
    "    single_pass_cluster = TfIdf_SinglePass.SinglePassCluster(tf_idf_array[:1000], t=threshold)\n",
    "    joblib.dump(single_pass_cluster, 'file/pkl/tf_idf_{}_clustering.pkl'.format(category))"
   ]
  },
  {
   "cell_type": "code",
   "execution_count": 22,
   "metadata": {
    "collapsed": true
   },
   "outputs": [],
   "source": [
    "# _clustering('rumor_4000')"
   ]
  },
  {
   "cell_type": "code",
   "execution_count": 20,
   "metadata": {
    "collapsed": true
   },
   "outputs": [],
   "source": [
    "def test_on_client(category):\n",
    "    single_pass_cluster = joblib.load('file/pkl/tf_idf_{}_clustering.pkl'.format(category))\n",
    "    cluster_list = single_pass_cluster.cluster_list\n",
    "    with open('file/corpus/corpus_of_rumor.txt', 'r') as src:\n",
    "        with open('file/test_{}.txt'.format(category), 'w') as out:\n",
    "            lines = src.readlines()\n",
    "            for cluster in cluster_list:\n",
    "                for i in cluster.node_list:\n",
    "                    out.write('{}'.format(lines[i]))\n",
    "                out.write('-----------------------------------\\n')"
   ]
  },
  {
   "cell_type": "code",
   "execution_count": 21,
   "metadata": {
    "collapsed": true
   },
   "outputs": [],
   "source": [
    "test_on_client('rumor_4000')"
   ]
  },
  {
   "cell_type": "markdown",
   "metadata": {
    "collapsed": true
   },
   "source": [
    "# 真实微博"
   ]
  },
  {
   "cell_type": "code",
   "execution_count": 2,
   "metadata": {
    "collapsed": true
   },
   "outputs": [],
   "source": [
    "import json\n",
    "import jieba\n",
    "from sklearn.feature_extraction.text import TfidfTransformer, CountVectorizer\n",
    "from sklearn.externals import joblib\n",
    "from sklearn import preprocessing\n",
    "import numpy as np\n",
    "import random\n",
    "\n",
    "import TfIdf_SinglePass"
   ]
  },
  {
   "cell_type": "code",
   "execution_count": 4,
   "metadata": {
    "collapsed": true
   },
   "outputs": [],
   "source": [
    "# single_pass_cluster = joblib.load('file/pkl/tf_idf_{}_clustering.pkl'.format('truth_4000'))\n",
    "# cluster_list = single_pass_cluster.cluster_list"
   ]
  },
  {
   "cell_type": "code",
   "execution_count": 71,
   "metadata": {
    "collapsed": true
   },
   "outputs": [],
   "source": [
    "def gen_filtered_truth():\n",
    "#     single_pass_cluster = joblib.load('file/pkl/tf_idf_{}_clustering.pkl'.format('truth_4000'))\n",
    "#     cluster_list = single_pass_cluster.cluster_list\n",
    "\n",
    "#     out = open('file/weibo_truth_text_filtered.json', 'w', encoding='utf-8')\n",
    "#     out_pretty = open('file/weibo_truth_text_filtered_pretty.json', 'w', encoding='utf-8')\n",
    "    with open('../weibo_truth_analysis/file/weibo_truth.txt', 'r', encoding='utf-8') as src:\n",
    "        events = src.readlines()\n",
    "    \n",
    "    valid_cluster_num = 0\n",
    "    missing_pics_cluster_num = 0\n",
    "    with open('file/corpus/corpus_of_truth.txt', 'r', encoding='utf-8') as corpus:\n",
    "        lines = corpus.readlines()\n",
    "        \n",
    "        for cluster in cluster_list:\n",
    "            truth_weibos = []\n",
    "            \n",
    "            for index in cluster.node_list:\n",
    "                line = lines[index]\n",
    "                event_index = int(line.split(',')[0][1:])\n",
    "                weibo_index = int(line.split(',')[1].split(')')[0][1:])\n",
    "\n",
    "                event = json.loads(events[event_index], encoding='utf-8')\n",
    "                truth_weibo = event['weibo'][weibo_index]\n",
    "                \n",
    "                if 'piclist' in truth_weibo.keys() and isinstance(truth_weibo['piclist'], list):\n",
    "                    if len(truth_weibo['piclist']) != 0:\n",
    "                        # 添加_position字段\n",
    "                        truth_weibo['_position'] = (event_index, weibo_index)\n",
    "                        truth_weibos.append(truth_weibo)\n",
    "            \n",
    "            # 选取规则：在有图片的微博中随机取\n",
    "            if len(truth_weibos) <= 0:\n",
    "                missing_pics_cluster_num += 1\n",
    "                continue\n",
    "            valid_cluster_num += 1\n",
    "            chosen_truth = random.sample(truth_weibos, 1)[0]\n",
    "            \n",
    "#             out.write('{}\\n'.format(json.dumps(chosen_truth, ensure_ascii=False)))\n",
    "#             out_pretty.write('{}\\n'.format(json.dumps(chosen_truth, ensure_ascii=False, indent=4, separators=(',', ':'))))\n",
    "#             out.flush()\n",
    "#             out_pretty.flush()\n",
    "#     out.close()\n",
    "#     out_pretty.close()\n",
    "\n",
    "    print('有效的簇为{}个，缺少图片的簇为{}个'.format(valid_cluster_num, missing_pics_cluster_num))"
   ]
  },
  {
   "cell_type": "code",
   "execution_count": 72,
   "metadata": {},
   "outputs": [
    {
     "name": "stdout",
     "output_type": "stream",
     "text": [
      "有效的簇为36827个，缺少图片的簇为20441个\n"
     ]
    }
   ],
   "source": [
    "gen_filtered_truth()"
   ]
  },
  {
   "cell_type": "code",
   "execution_count": 63,
   "metadata": {
    "collapsed": true
   },
   "outputs": [],
   "source": [
    "def show_clustering_truth():\n",
    "#     single_pass_cluster = joblib.load('file/pkl/tf_idf_{}_clustering.pkl'.format('rumor_4000'))\n",
    "#     cluster_list = single_pass_cluster.cluster_list\n",
    "\n",
    "    # 输出过滤后的文本内容\n",
    "    with open('file/corpus/corpus_of_truth.txt', 'r', encoding='utf-8') as src:\n",
    "        with open('file/truth_4000.txt', 'w', encoding='utf-8') as out:\n",
    "            lines = src.readlines()\n",
    "            for cluster in cluster_list:\n",
    "                for i in cluster.node_list:\n",
    "                    out.write('{}'.format(lines[i]))\n",
    "                out.write('-----------------------------------\\n')\n",
    "                \n",
    "    # 统计微博数量、图片数量、userCertify分布\n",
    "    with open('file/weibo_truth_text_filtered.json', 'r', encoding='utf-8') as src:\n",
    "        lines = src.readlines()\n",
    "        filtered_weibo_num = len(lines)\n",
    "        filtered_pic_num = 0\n",
    "        certify_0 = 0\n",
    "        certify_1 = 0\n",
    "        certify_2 = 0\n",
    "\n",
    "        for line in lines:\n",
    "            truth = json.loads(line, encoding='utf-8-sig')\n",
    "            filtered_pic_num += len(truth['piclist'])\n",
    "            if 'userCertify' in truth.keys():\n",
    "                certify = truth['userCertify']\n",
    "                if certify == 0:\n",
    "                    certify_0 += 1\n",
    "                elif certify == 1:\n",
    "                    certify_1 += 1\n",
    "                else:\n",
    "                    certify_2 += 1\n",
    "\n",
    "        print('聚类后的真实微博：数量为{}，图片数量为{}'.format(filtered_weibo_num, filtered_pic_num))\n",
    "        print('（{}）{}:{}:{} = {:.1f} : {:.1f} : 1'.format(\n",
    "            certify_0 + certify_1 + certify_2, certify_0, certify_1,\n",
    "            certify_2, certify_0 / certify_2, certify_1 / certify_2))"
   ]
  },
  {
   "cell_type": "code",
   "execution_count": 64,
   "metadata": {},
   "outputs": [
    {
     "name": "stdout",
     "output_type": "stream",
     "text": [
      "聚类后的真实微博：数量为36827，图片数量为79076\n",
      "（36827）13967:6581:16279 = 0.9 : 0.4 : 1\n"
     ]
    }
   ],
   "source": [
    "show_clustering_truth()"
   ]
  },
  {
   "cell_type": "code",
   "execution_count": 65,
   "metadata": {},
   "outputs": [
    {
     "data": {
      "text/plain": [
       "57268"
      ]
     },
     "execution_count": 65,
     "metadata": {},
     "output_type": "execute_result"
    }
   ],
   "source": [
    "len(cluster_list)"
   ]
  },
  {
   "cell_type": "code",
   "execution_count": null,
   "metadata": {
    "collapsed": true
   },
   "outputs": [],
   "source": []
  },
  {
   "cell_type": "code",
   "execution_count": null,
   "metadata": {
    "collapsed": true
   },
   "outputs": [],
   "source": []
  },
  {
   "cell_type": "code",
   "execution_count": null,
   "metadata": {
    "collapsed": true
   },
   "outputs": [],
   "source": []
  }
 ],
 "metadata": {
  "kernelspec": {
   "display_name": "Python 3",
   "language": "python",
   "name": "python3"
  },
  "language_info": {
   "codemirror_mode": {
    "name": "ipython",
    "version": 3
   },
   "file_extension": ".py",
   "mimetype": "text/x-python",
   "name": "python",
   "nbconvert_exporter": "python",
   "pygments_lexer": "ipython3",
   "version": "3.5.3"
  }
 },
 "nbformat": 4,
 "nbformat_minor": 2
}
