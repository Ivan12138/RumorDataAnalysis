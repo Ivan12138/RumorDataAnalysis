{
 "cells": [
  {
   "cell_type": "code",
   "execution_count": 75,
   "metadata": {},
   "outputs": [],
   "source": [
    "from sklearn.externals import joblib\n",
    "import random\n",
    "import numpy as np"
   ]
  },
  {
   "cell_type": "code",
   "execution_count": 2,
   "metadata": {
    "collapsed": true
   },
   "outputs": [],
   "source": [
    "events_num, weibos_num, event_weibos_num_list, global_sampling_factor, event_sampling_factor_list = joblib.load(\n",
    "    'file/pkl/event_sampling_factor.pkl')"
   ]
  },
  {
   "cell_type": "code",
   "execution_count": 3,
   "metadata": {},
   "outputs": [
    {
     "data": {
      "text/plain": [
       "5979"
      ]
     },
     "execution_count": 3,
     "metadata": {},
     "output_type": "execute_result"
    }
   ],
   "source": [
    "events_num"
   ]
  },
  {
   "cell_type": "code",
   "execution_count": 4,
   "metadata": {},
   "outputs": [
    {
     "data": {
      "text/plain": [
       "158299"
      ]
     },
     "execution_count": 4,
     "metadata": {},
     "output_type": "execute_result"
    }
   ],
   "source": [
    "weibos_num"
   ]
  },
  {
   "cell_type": "code",
   "execution_count": 6,
   "metadata": {},
   "outputs": [
    {
     "data": {
      "text/plain": [
       "[19, 42, 1, 14, 6, 162, 23, 39, 36, 6, 50, 31, 1, 10, 40, 1, 34, 1, 20, 22]"
      ]
     },
     "execution_count": 6,
     "metadata": {},
     "output_type": "execute_result"
    }
   ],
   "source": [
    "event_weibos_num_list[0:20]"
   ]
  },
  {
   "cell_type": "code",
   "execution_count": 7,
   "metadata": {},
   "outputs": [
    {
     "data": {
      "text/plain": [
       "0.21864320052558767"
      ]
     },
     "execution_count": 7,
     "metadata": {},
     "output_type": "execute_result"
    }
   ],
   "source": [
    "global_sampling_factor"
   ]
  },
  {
   "cell_type": "code",
   "execution_count": 9,
   "metadata": {},
   "outputs": [
    {
     "data": {
      "text/plain": [
       "[0.0001200260266963152,\n",
       " 0.00026532069059185463,\n",
       " 6.317159299806063e-06,\n",
       " 8.844023019728489e-05,\n",
       " 3.790295579883638e-05,\n",
       " 0.0010233798065685821,\n",
       " 0.00014529466389553945,\n",
       " 0.00024636921269243644,\n",
       " 0.00022741773479301828,\n",
       " 3.790295579883638e-05,\n",
       " 0.00031585796499030317,\n",
       " 0.00019583193829398796,\n",
       " 6.317159299806063e-06,\n",
       " 6.317159299806063e-05,\n",
       " 0.0002526863719922425,\n",
       " 6.317159299806063e-06,\n",
       " 0.00021478341619340615,\n",
       " 6.317159299806063e-06,\n",
       " 0.00012634318599612126,\n",
       " 0.0001389775045957334]"
      ]
     },
     "execution_count": 9,
     "metadata": {},
     "output_type": "execute_result"
    }
   ],
   "source": [
    "event_sampling_factor_list[0:20]"
   ]
  },
  {
   "cell_type": "code",
   "execution_count": 27,
   "metadata": {},
   "outputs": [],
   "source": [
    "sampling_num_of_event = [weibos_num * global_sampling_factor * factor for factor in event_sampling_factor_list]"
   ]
  },
  {
   "cell_type": "code",
   "execution_count": 28,
   "metadata": {},
   "outputs": [
    {
     "data": {
      "text/plain": [
       "[4.154220809986165,\n",
       " 9.183014422074681,\n",
       " 0.21864320052558764,\n",
       " 3.061004807358227,\n",
       " 1.311859203153526,\n",
       " 35.4201984851452,\n",
       " 5.028793612088516,\n",
       " 8.527084820497917,\n",
       " 7.871155218921156,\n",
       " 1.311859203153526,\n",
       " 10.932160026279384,\n",
       " 6.777939216293217,\n",
       " 0.21864320052558764,\n",
       " 2.1864320052558766,\n",
       " 8.745728021023506,\n",
       " 0.21864320052558764,\n",
       " 7.43386881786998,\n",
       " 0.21864320052558764,\n",
       " 4.372864010511753,\n",
       " 4.810150411562929]"
      ]
     },
     "execution_count": 28,
     "metadata": {},
     "output_type": "execute_result"
    }
   ],
   "source": [
    "sampling_num_of_event[0:20]"
   ]
  },
  {
   "cell_type": "code",
   "execution_count": 29,
   "metadata": {
    "collapsed": true
   },
   "outputs": [],
   "source": [
    "sampling_num_of_event = [int(x + 0.5) for x in sampling_num_of_event]"
   ]
  },
  {
   "cell_type": "code",
   "execution_count": 31,
   "metadata": {},
   "outputs": [
    {
     "name": "stdout",
     "output_type": "stream",
     "text": [
      "34442\n"
     ]
    },
    {
     "data": {
      "text/plain": [
       "[4, 9, 0, 3, 1, 35, 5, 9, 8, 1, 11, 7, 0, 2, 9, 0, 7, 0, 4, 5]"
      ]
     },
     "execution_count": 31,
     "metadata": {},
     "output_type": "execute_result"
    }
   ],
   "source": [
    "print(sum(sampling_num_of_event))\n",
    "sampling_num_of_event[0:20]"
   ]
  },
  {
   "cell_type": "code",
   "execution_count": 32,
   "metadata": {
    "collapsed": true
   },
   "outputs": [],
   "source": [
    "sampling_num_of_event = [1 if x == 0 else x for x in sampling_num_of_event]"
   ]
  },
  {
   "cell_type": "code",
   "execution_count": 33,
   "metadata": {},
   "outputs": [
    {
     "name": "stdout",
     "output_type": "stream",
     "text": [
      "35329\n"
     ]
    },
    {
     "data": {
      "text/plain": [
       "[4, 9, 1, 3, 1, 35, 5, 9, 8, 1, 11, 7, 1, 2, 9, 1, 7, 1, 4, 5]"
      ]
     },
     "execution_count": 33,
     "metadata": {},
     "output_type": "execute_result"
    }
   ],
   "source": [
    "print(sum(sampling_num_of_event))\n",
    "sampling_num_of_event[0:20]"
   ]
  },
  {
   "cell_type": "markdown",
   "metadata": {},
   "source": [
    "## userCertify"
   ]
  },
  {
   "cell_type": "code",
   "execution_count": 92,
   "metadata": {
    "collapsed": true
   },
   "outputs": [],
   "source": [
    "events_num, weibos_num, event_weibos_num_list, global_sampling_factor, event_sampling_factor_list = joblib.load(\n",
    "    'file/pkl/event_sampling_factor.pkl')\n",
    "\n",
    "# 计算在每个事件中抽取的微博数\n",
    "sampling_num_of_event = [weibos_num * global_sampling_factor * factor for factor in event_sampling_factor_list]\n",
    "sampling_num_of_event = [int(x + 0.5) for x in sampling_num_of_event]\n",
    "# sampling_num_of_event = [int(x) for x in sampling_num_of_event]\n",
    "sampling_num_of_event = [1 if x == 0 else x for x in sampling_num_of_event]"
   ]
  },
  {
   "cell_type": "code",
   "execution_count": 93,
   "metadata": {},
   "outputs": [],
   "source": [
    "certify_num_of_event = []\n",
    "for x in sampling_num_of_event:\n",
    "    certify_num = [22 / 27 * x, 4 / 27 * x, 1 / 27 * x]\n",
    "    certify_num = [int(x + 0.5) for x in certify_num]\n",
    "    certify_num = [1 if x == 0 else x for x in certify_num]\n",
    "    certify_num_of_event.append(certify_num)"
   ]
  },
  {
   "cell_type": "code",
   "execution_count": 94,
   "metadata": {},
   "outputs": [],
   "source": [
    "certify_num_of_event = []\n",
    "for x in sampling_num_of_event:\n",
    "    certify_num = [22 / 27 * x, 4 / 27 * x, 1 / 27 * x]\n",
    "    certify_num = [int(x + 0.5) for x in certify_num]\n",
    "    \n",
    "    updated_certify_num = []\n",
    "    for num in certify_num:\n",
    "        rand = random.random()\n",
    "        if rand >= 0.9:\n",
    "            num = 1 if num == 0 else num\n",
    "        updated_certify_num.append(num)\n",
    "#     certify_num = [1 if x == 0 else x for x in certify_num]\n",
    "    certify_num_of_event.append(updated_certify_num)"
   ]
  },
  {
   "cell_type": "code",
   "execution_count": 95,
   "metadata": {},
   "outputs": [
    {
     "data": {
      "text/plain": [
       "[[3, 1, 0],\n",
       " [7, 1, 0],\n",
       " [1, 0, 0],\n",
       " [2, 0, 1],\n",
       " [1, 0, 0],\n",
       " [29, 5, 1],\n",
       " [4, 1, 0],\n",
       " [7, 1, 0],\n",
       " [7, 1, 0],\n",
       " [1, 1, 0],\n",
       " [9, 2, 0],\n",
       " [6, 1, 0],\n",
       " [1, 0, 0],\n",
       " [2, 0, 0],\n",
       " [7, 1, 0],\n",
       " [1, 0, 0],\n",
       " [6, 1, 0],\n",
       " [1, 0, 0],\n",
       " [3, 1, 0],\n",
       " [4, 1, 0]]"
      ]
     },
     "execution_count": 95,
     "metadata": {},
     "output_type": "execute_result"
    }
   ],
   "source": [
    "certify_num_of_event[0:20]"
   ]
  },
  {
   "cell_type": "code",
   "execution_count": 96,
   "metadata": {
    "collapsed": true
   },
   "outputs": [],
   "source": [
    "sampling_num_of_event = [sum(x) for x in certify_num_of_event]"
   ]
  },
  {
   "cell_type": "code",
   "execution_count": 97,
   "metadata": {},
   "outputs": [
    {
     "data": {
      "text/plain": [
       "35440"
      ]
     },
     "execution_count": 97,
     "metadata": {},
     "output_type": "execute_result"
    }
   ],
   "source": [
    "sum(sampling_num_of_event)"
   ]
  },
  {
   "cell_type": "code",
   "execution_count": 98,
   "metadata": {},
   "outputs": [
    {
     "data": {
      "text/plain": [
       "[4, 8, 1, 3, 1, 35, 5, 8, 8, 2, 11, 7, 1, 2, 8, 1, 7, 1, 4, 5]"
      ]
     },
     "execution_count": 98,
     "metadata": {},
     "output_type": "execute_result"
    }
   ],
   "source": [
    "sampling_num_of_event[0:20]"
   ]
  },
  {
   "cell_type": "code",
   "execution_count": 99,
   "metadata": {},
   "outputs": [],
   "source": [
    "event_weibos_num_array = np.array(event_weibos_num_list)\n",
    "sorted_index_of_event = np.argsort(event_weibos_num_array)"
   ]
  },
  {
   "cell_type": "code",
   "execution_count": 100,
   "metadata": {},
   "outputs": [
    {
     "data": {
      "text/plain": [
       "array([2133, 2122, 5613, ..., 1344,  954, 5672])"
      ]
     },
     "execution_count": 100,
     "metadata": {},
     "output_type": "execute_result"
    }
   ],
   "source": [
    "sorted_index_of_event"
   ]
  },
  {
   "cell_type": "code",
   "execution_count": 101,
   "metadata": {},
   "outputs": [
    {
     "data": {
      "text/plain": [
       "1"
      ]
     },
     "execution_count": 101,
     "metadata": {},
     "output_type": "execute_result"
    }
   ],
   "source": [
    "event_weibos_num_list[2133]"
   ]
  },
  {
   "cell_type": "code",
   "execution_count": 102,
   "metadata": {},
   "outputs": [
    {
     "data": {
      "text/plain": [
       "1"
      ]
     },
     "execution_count": 102,
     "metadata": {},
     "output_type": "execute_result"
    }
   ],
   "source": [
    "sampling_num_of_event[2133]"
   ]
  },
  {
   "cell_type": "code",
   "execution_count": 103,
   "metadata": {},
   "outputs": [
    {
     "data": {
      "text/plain": [
       "[1, 0, 0]"
      ]
     },
     "execution_count": 103,
     "metadata": {},
     "output_type": "execute_result"
    }
   ],
   "source": [
    "certify_num_of_event[2133]"
   ]
  },
  {
   "cell_type": "markdown",
   "metadata": {},
   "source": [
    "## event_features"
   ]
  },
  {
   "cell_type": "code",
   "execution_count": 113,
   "metadata": {
    "collapsed": true
   },
   "outputs": [],
   "source": [
    "event_features_list = joblib.load('file/pkl/event_features.pkl')"
   ]
  },
  {
   "cell_type": "code",
   "execution_count": 114,
   "metadata": {},
   "outputs": [
    {
     "data": {
      "text/plain": [
       "5979"
      ]
     },
     "execution_count": 114,
     "metadata": {},
     "output_type": "execute_result"
    }
   ],
   "source": [
    "len(event_features_list)"
   ]
  },
  {
   "cell_type": "code",
   "execution_count": 115,
   "metadata": {},
   "outputs": [
    {
     "data": {
      "text/plain": [
       "{'certify_0': [0, 5, 6, 7, 9, 10, 11, 14, 15, 16, 18],\n",
       " 'certify_1': [1, 8],\n",
       " 'certify_2': [2, 3, 4, 12, 13, 17],\n",
       " 'id': 'CE04BFD3766B3D6BAA454A4F9DE8BCAD1458697553928',\n",
       " 'pic_num': [0, 0, 1, 1, 1, 1, 1, 0, 1, 0, 1, 1, 1, 1, 0, 0, 1, 1, 1],\n",
       " 'pic_num_0': [0, 1, 1, 0, 0, 1, 1, 0, 0, 1, 1],\n",
       " 'pic_num_1': [0, 1],\n",
       " 'pic_num_2': [1, 1, 1, 1, 1, 1],\n",
       " 'weibo_num': 19}"
      ]
     },
     "execution_count": 115,
     "metadata": {},
     "output_type": "execute_result"
    }
   ],
   "source": [
    "event_features_list[0]"
   ]
  },
  {
   "cell_type": "code",
   "execution_count": null,
   "metadata": {
    "collapsed": true
   },
   "outputs": [],
   "source": []
  }
 ],
 "metadata": {
  "kernelspec": {
   "display_name": "Python 3",
   "language": "python",
   "name": "python3"
  },
  "language_info": {
   "codemirror_mode": {
    "name": "ipython",
    "version": 3
   },
   "file_extension": ".py",
   "mimetype": "text/x-python",
   "name": "python",
   "nbconvert_exporter": "python",
   "pygments_lexer": "ipython3",
   "version": "3.5.3"
  }
 },
 "nbformat": 4,
 "nbformat_minor": 2
}
