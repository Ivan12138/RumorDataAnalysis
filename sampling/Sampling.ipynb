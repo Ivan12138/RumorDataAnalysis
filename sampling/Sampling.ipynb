{
 "cells": [
  {
   "cell_type": "code",
   "execution_count": 1,
   "metadata": {
    "collapsed": true
   },
   "outputs": [],
   "source": [
    "import json\n",
    "from sklearn.externals import joblib\n",
    "import random\n",
    "import numpy as np"
   ]
  },
  {
   "cell_type": "code",
   "execution_count": 2,
   "metadata": {
    "collapsed": true
   },
   "outputs": [],
   "source": [
    "events_num, weibos_num, event_weibos_num_list, global_sampling_factor, event_sampling_factor_list = joblib.load(\n",
    "        'file/pkl/event_sampling_factor.pkl')\n",
    "sampling_num_of_event, certify_num_of_event = joblib.load('file/pkl/certify_num_of_every_event.pkl')\n",
    "event_features_list = joblib.load('file/pkl/event_features.pkl')"
   ]
  },
  {
   "cell_type": "code",
   "execution_count": 4,
   "metadata": {},
   "outputs": [
    {
     "data": {
      "text/plain": [
       "(5979, 38180)"
      ]
     },
     "execution_count": 4,
     "metadata": {},
     "output_type": "execute_result"
    }
   ],
   "source": [
    "events_num, weibos_num"
   ]
  },
  {
   "cell_type": "code",
   "execution_count": 7,
   "metadata": {},
   "outputs": [
    {
     "data": {
      "text/plain": [
       "6753"
      ]
     },
     "execution_count": 7,
     "metadata": {},
     "output_type": "execute_result"
    }
   ],
   "source": [
    "sum(sampling_num_of_event)"
   ]
  },
  {
   "cell_type": "code",
   "execution_count": 9,
   "metadata": {},
   "outputs": [
    {
     "data": {
      "text/plain": [
       "6753"
      ]
     },
     "execution_count": 9,
     "metadata": {},
     "output_type": "execute_result"
    }
   ],
   "source": [
    "sum([sum(x) for x in certify_num_of_event])"
   ]
  },
  {
   "cell_type": "markdown",
   "metadata": {},
   "source": [
    "# 计算参数"
   ]
  },
  {
   "cell_type": "code",
   "execution_count": 53,
   "metadata": {
    "collapsed": true
   },
   "outputs": [],
   "source": [
    "# （5942）4439:1284:219 = 20.3 : 5.9 : 1\n",
    "                \n",
    "# Rumor Features\n",
    "rumor_weibo_sum = 7880\n",
    "rumor_certify = 5942\n",
    "rumor_0 = 4439\n",
    "rumor_1 = 1284\n",
    "rumor_2 = 219"
   ]
  },
  {
   "cell_type": "code",
   "execution_count": 317,
   "metadata": {},
   "outputs": [],
   "source": [
    "def get_event_certify_num():\n",
    "    events_num, weibos_num, event_weibos_num_list, global_sampling_factor, event_sampling_factor_list = joblib.load(\n",
    "        'file/pkl/event_sampling_factor.pkl')\n",
    "    # 计算在每个事件中抽取的微博数\n",
    "    sampling_num_of_event = [weibos_num * global_sampling_factor * factor for factor in event_sampling_factor_list]\n",
    "    sampling_num_of_event = [int(x + 0.5) for x in sampling_num_of_event]\n",
    "    sampling_num_of_event = [1 if x == 0 else x for x in sampling_num_of_event]\n",
    "\n",
    "    # 计算不同的userCertify字段应该分别抽取多少微博\n",
    "    certify_num_of_event = []\n",
    "    for x in sampling_num_of_event:\n",
    "        certify_num = [rumor_0 / rumor_certify * x, rumor_1 / rumor_certify * x, rumor_2 / rumor_certify * x]\n",
    "        \n",
    "        # 有问题的四舍五入，应舍弃\n",
    "#         certify_num = [int(x + 0.4) for x in certify_num]\n",
    "\n",
    "        certify_num_of_event.append(certify_num)\n",
    "\n",
    "        # 按照一定的概率，减少certify0与certify1\n",
    "#         updated_certify_num = []\n",
    "#         for i in range(3):\n",
    "#             num = certify_num[i]\n",
    "#             rand = random.random()\n",
    "#             if rand >= 0.7 and i < 2:\n",
    "#                 num = num - 1 if num > 0 else num\n",
    "#             rand = random.random()\n",
    "#             if rand >= 0.95 and i == 2:\n",
    "#                 num += 1\n",
    "#             updated_certify_num.append(num)\n",
    "            \n",
    "#         num_0 = int(certify_num[0] + 0.5)\n",
    "#         num_1 = int(certify_num[1] + 0.5)\n",
    "#         num_2 = int(certify_num[2] + 1)\n",
    "#         certify_num_of_event.append([num_0, num_1, num_2])\n",
    "\n",
    "    # 更新在每个事件中抽取的微博数\n",
    "    sampling_num_of_event = [sum(x) for x in certify_num_of_event]\n",
    "\n",
    "    joblib.dump((sampling_num_of_event, certify_num_of_event), 'file/pkl/certify_num_of_every_event.pkl')\n",
    "\n",
    "    \n",
    "get_event_certify_num()"
   ]
  },
  {
   "cell_type": "code",
   "execution_count": 318,
   "metadata": {},
   "outputs": [],
   "source": [
    "sampling_num_of_event, certify_num_of_event = joblib.load('file/pkl/certify_num_of_every_event.pkl')"
   ]
  },
  {
   "cell_type": "code",
   "execution_count": 319,
   "metadata": {},
   "outputs": [
    {
     "data": {
      "text/plain": [
       "9839.0"
      ]
     },
     "execution_count": 319,
     "metadata": {},
     "output_type": "execute_result"
    }
   ],
   "source": [
    "sum(sampling_num_of_event)"
   ]
  },
  {
   "cell_type": "code",
   "execution_count": 320,
   "metadata": {},
   "outputs": [
    {
     "data": {
      "text/plain": [
       "[[0.7470548636822618, 0.21608885897004376, 0.03685627734769438],\n",
       " [3.7352743184113093, 1.0804442948502189, 0.1842813867384719],\n",
       " [0.7470548636822618, 0.21608885897004376, 0.03685627734769438],\n",
       " [0.7470548636822618, 0.21608885897004376, 0.03685627734769438],\n",
       " [2.2411645910467852, 0.6482665769101312, 0.11056883204308314]]"
      ]
     },
     "execution_count": 320,
     "metadata": {},
     "output_type": "execute_result"
    }
   ],
   "source": [
    "certify_num_of_event[:5]"
   ]
  },
  {
   "cell_type": "code",
   "execution_count": 321,
   "metadata": {},
   "outputs": [
    {
     "name": "stdout",
     "output_type": "stream",
     "text": [
      "(9839.000000000042) 7350.2728037697125:2126.098283406401:362.6289128239282 = 20.3 : 5.9 : 1\n"
     ]
    }
   ],
   "source": [
    "c0 = sum([x[0] for x in certify_num_of_event])\n",
    "c1 = sum([x[1] for x in certify_num_of_event])\n",
    "c2 = sum([x[2] for x in certify_num_of_event])\n",
    "\n",
    "print('({}) {}:{}:{} = {:.1f} : {:.1f} : 1'.format(c0+c1+c2, c0, c1,c2, c0/c2, c1/c2))"
   ]
  },
  {
   "cell_type": "markdown",
   "metadata": {},
   "source": [
    "# 查看result"
   ]
  },
  {
   "cell_type": "code",
   "execution_count": 42,
   "metadata": {
    "collapsed": true
   },
   "outputs": [],
   "source": [
    "result_certify_num_of_event, result_index_of_event = joblib.load('file/pkl/result.pkl')"
   ]
  },
  {
   "cell_type": "code",
   "execution_count": 44,
   "metadata": {},
   "outputs": [
    {
     "data": {
      "text/plain": [
       "[[2, 0, 0], [3, 1, 0], [0, 0, 0], [0, 0, 0], [2, 1, 0]]"
      ]
     },
     "execution_count": 44,
     "metadata": {},
     "output_type": "execute_result"
    }
   ],
   "source": [
    "result_certify_num_of_event[:5]"
   ]
  },
  {
   "cell_type": "code",
   "execution_count": null,
   "metadata": {
    "collapsed": true
   },
   "outputs": [],
   "source": []
  }
 ],
 "metadata": {
  "kernelspec": {
   "display_name": "Python 3",
   "language": "python",
   "name": "python3"
  },
  "language_info": {
   "codemirror_mode": {
    "name": "ipython",
    "version": 3
   },
   "file_extension": ".py",
   "mimetype": "text/x-python",
   "name": "python",
   "nbconvert_exporter": "python",
   "pygments_lexer": "ipython3",
   "version": "3.5.3"
  }
 },
 "nbformat": 4,
 "nbformat_minor": 2
}
