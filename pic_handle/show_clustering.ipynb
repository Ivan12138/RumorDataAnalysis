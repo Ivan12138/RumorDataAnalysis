{
 "cells": [
  {
   "cell_type": "code",
   "execution_count": 1,
   "metadata": {
    "collapsed": true
   },
   "outputs": [],
   "source": [
    "# encoding:utf-8\n",
    "\n",
    "clustered_31 = ['7cd4f999jw1f3a4dk0x3xj20k00f0jst.jpg', '62bfcf76gw1f3bc9qyobqg208r04ye82.gif',\n",
    "                '4e5b54d8gw1f3bke7g7x6g208r04y1ky.gif', 'c0855202jw1f3a51n9lzoj20dt09tabe.jpg',\n",
    "                '9e5389bbjw1f3bhv9ccd0g208r04yqv7.gif', '6379d5b0gw1f3b49je2iuj20b40d8gmb.jpg',\n",
    "                '736f0c7ejw1f3bb39q8n7j20nq0dcjtj.jpg', '62bfcf76gw1f3ad8pjproj20b40d83zw.jpg']\n",
    "clustered_32 = ['72d63766gw1f3dteh48azj20hs0vkn0i.jpg', '684ebae3jw1f3dmz6baclj20ax06074f.jpg',\n",
    "                '6ac50c69jw1f3erjefwyoj20hb0qndis.jpg', '6e916bdegw1f3dq8qrtckj20hm0ef0u5.jpg',\n",
    "                '005D4gq0gw1f3dlgg18bkj30hs0vk77h.jpg', '8f9dc803jw1f3en5ttja2j20h80q3774.jpg']\n",
    "clustered_33 = ['63207a53jw1f5ho55vra2j20c80g7jsa.jpg', '4d355e80jw1f5gtmlb9izj20k00qowhw.jpg',\n",
    "                '5fd734e4jw1f5hmpc5k29j20go0b43zm.jpg', '006fhfuwjw1f5jclamox5j30c80g9gmp.jpg',\n",
    "                'e4ba8981jw1f5hvk0en3hj20c80g9gmp.jpg', '8cd8e608gw1f5hskw2tosj20j60pk0xs.jpg',\n",
    "                '67dd74e0gw1f5ib4aacc8j20j60npaed.jpg', 'c2556596jw1f5j6iz016uj20cd3et7hj.jpg',\n",
    "                '9b76532djw1f5hnefe8epj20j60pkn28.jpg', '56e9a168jw1f5hzfyopejj20j60pkq80.jpg',\n",
    "                '62b963a9gw1f5hzeswgh3j20dw0iizlo.jpg', '7f1c1c22gw1f5ibrkl521j20dm0f0q4f.jpg',\n",
    "                'db3b4907jw1f5j1rzp4f7j20cd3etnf4.jpg']\n",
    "clustered_51 = ['652f5916gw1f85odypvc3j20c80jujsx.jpg', '517fd2acgw1f84rorugt9j20qo0qotbh.jpg',\n",
    "                'ad194221jw1f83n1eefp8j20qx0qoq8h.jpg', 'b9a15f9djw1f84tjc30xpj20ea0ea3z5.jpg',\n",
    "                '006mXsPYgw1f851omrgjmj30k00uw76w.jpg', '66b630bfgw1f85r4ljqmpj20c80lp415.jpg',\n",
    "                '4b8a01b7jw1f852yolr48j20qo1be102.jpg', '738b85begw1f85ynf2h19j20c80lpacp.jpg',\n",
    "                'a716fd45jw1f84whaa8w0j20fa0esq5a.jpg', '78221efbgw1f83qvaipyij20ku112n2p.jpg',\n",
    "                'a716fd45jw1f84wha9akij20c80jf773.jpg', '78221efbgw1f83qvbaczrj20ku112q9f.jpg',\n",
    "                '66b630bfgw1f85r4lkde1j20c80jfq5f.jpg', '80e5c22ejw1f85xjakiilj20ck0c5wfx.jpg',\n",
    "                '80e5c22ejw1f85xjauw63j20c80jfacj.jpg']\n",
    "clustered_52 = ['486f6b64gw1f86qfjdn2lj20dw09875g.jpg', '692aad1bgw1f871sqoj7uj20ez0az75l.jpg',\n",
    "                '6b658c6bjw1f8auph0e4aj20i80c8gmn.jpg', '6204ece1gw1f86t90mgodj20f00d2myl.jpg',\n",
    "                '486f6b64gw1f86qhig46ag20ah05n7ks.gif', '9e5389bbjw1f8aqizwuynj20i80c80tq.jpg',\n",
    "                '005u8wFGjw1f8ax4ixekwj30hs0dc3yu.jpg', '486f6b64gw1f86qg7osjgj20dw07swey.jpg']\n",
    "clustered_53 = ['be66262fgw1f860j0nxusj21be0qotek.jpg', '8e989a9cjw1f84spug1lij20ws0wx76z.jpg',\n",
    "                '8e989a9cjw1f84sptpif7j20ww0wntbj.jpg', '005VEqiNjw1f886c34pm1j30hp0bnmyx.jpg',\n",
    "                '9dcea99bjw1f85riid1m3j20e009r3z5.jpg', 'e7592aa5gw1f84uj41jfsj20go0m8gmq.jpg',\n",
    "                'a716fd45jw1f6tbuu2ypaj20hs1y3n85.jpg', 'be66262fgw1f860j4aqm4j20qo1bhk0v.jpg',\n",
    "                '488877fcgw1f84abi4pg7j20j60iywgm.jpg', '488877fcgw1f84abgywboj20j60j576l.jpg',\n",
    "                '81c10930jw1f83drcwncbj20qo0hota0.jpg']\n",
    "\n",
    "clustered_pic_list = [clustered_31, clustered_32, clustered_33, clustered_51, clustered_52, clustered_53]"
   ]
  },
  {
   "cell_type": "code",
   "execution_count": 2,
   "metadata": {
    "collapsed": true
   },
   "outputs": [],
   "source": [
    "import json\n",
    "\n",
    "with open('../mongo_script/file/weibo_truth.txt', 'r') as src:\n",
    "    lines = src.readlines()\n",
    "    json_31 = json.loads(lines[30])\n",
    "    json_32 = json.loads(lines[31])\n",
    "    json_33 = json.loads(lines[32])\n",
    "    json_51 = json.loads(lines[50])\n",
    "    json_52 = json.loads(lines[51])\n",
    "    json_53 = json.loads(lines[52])"
   ]
  },
  {
   "cell_type": "code",
   "execution_count": 4,
   "metadata": {
    "collapsed": true
   },
   "outputs": [],
   "source": [
    "import os\n",
    "\n",
    "json_list = [json_31, json_32, json_33, json_51, json_52, json_53]\n",
    "\n",
    "# 首次爬虫时，建立目录\n",
    "event_id_list = [event_json['id'] for event_json in json_list]\n",
    "for event_id in event_id_list:\n",
    "    os.system('mkdir ./clustering/{}'.format(event_id))"
   ]
  },
  {
   "cell_type": "code",
   "execution_count": 8,
   "metadata": {},
   "outputs": [
    {
     "name": "stdout",
     "output_type": "stream",
     "text": [
      "['55cbec6cjw1f3bi3q1vpjj20c80gbjtm.jpg', 'a1ebed3bjw1f3bel2p51wj20b408c3yn.jpg', '70856785gw1f3ad9jfqrjj20c8096t95.jpg', '68690a6cgw1f3bc81ewmeg208r04ye82.gif', '4e5b54d8gw1f3bkeoxvwdg208r04yu0y.gif', 'c52f73c7jw1f3a5ekhtjkj20ci0godho.jpg', 'a3d444e3jw1f3acznhi91j20dc08wmxs.jpg', '81ae5761jw1f3b1r0etclj20b407e3z6.jpg', '9de9a9f3jw1f3ay8f8smaj20c80gb0wq.jpg', '006et2kRgw1f3c9svg23qg308r04ye82.gif', '6c0c0bb3tdf7bdeae9c65', 'be5c8accjw1f3bkrtxn4zj20b40etgnj.jpg', '82a5700bjw1f3ab0y1tm6j20c80gb40f.jpg', '6693ce84gw1f3bck7v4jhg208r04yu0y.gif', '68690a6cgw1f3bc83tdw4g208r04yqv7.gif', '736f0c7ejw1f3bb39q8n7j20nq0dcjtj.jpg', '6693ce84gw1f3bcjzfmaug208r04ye82.gif', '62bfcf76gw1f3bca1ci4dg208r04yu0y.gif', '644471aegw1f3bk0w4s8nj20dz0godiv.jpg', '652f5916gw1f3a171tklqj20f608qmy1.jpg']\n",
      "['7cd4f999jw1f3a4dk0x3xj20k00f0jst.jpg', '62bfcf76gw1f3bc9qyobqg208r04ye82.gif', '4e5b54d8gw1f3bke7g7x6g208r04y1ky.gif', 'c0855202jw1f3a51n9lzoj20dt09tabe.jpg', '9e5389bbjw1f3bhv9ccd0g208r04yqv7.gif', '6379d5b0gw1f3b49je2iuj20b40d8gmb.jpg', '736f0c7ejw1f3bb39q8n7j20nq0dcjtj.jpg', '62bfcf76gw1f3ad8pjproj20b40d83zw.jpg']\n",
      "----------------\n",
      "['005OGPsJgw1f3dvnekhgmj30fz0gbjsv.jpg', '87382573jw1f3enoejyihj20qo0zktci.jpg', '9d1158f2gw1f3dokjvrf9j20hm0ef3zi.jpg', '6e916bdegw1f3dq8rrmfaj20ck0crmyl.jpg', '006qxIptjw1f3e0rpo6l8j30go0t0mz0.jpg', '593bbc68gw1f3e48xcm4rj20hs0vkjup.jpg', 'be67c371gw1f3ekzwts3ej20jz0zkq5x.jpg', '6ac50c69jw1f3erjdut9kj20hs0vkjua.jpg', '6250e764gw1f3dj8mhqtmj20c80chmxp.jpg', '6486a91agw1f3dvoraxnbj20b20g10uc.jpg', '496b2a65jw1f3dkppogaij20c80f5gmi.jpg', '6ac50c69jw1f3erjfo8fwj20hr0s0n07.jpg', '593793e5gw1f3elq3nk3tj20hi0qjdiu.jpg', '005D4gq0gw1f3dlh8hhfvj30hm0d8n04.jpg', '6ac50c69jw1f3erjgfec5j20hr0vk435.jpg', '68543588gw1f3ehm5svujj20al05yq2z.jpg', '6587622bgw1f3emnb69g1j20h80q376d.jpg', '54a5e40djw1f3dx73wxzkj20c80lpjt8.jpg', '005D4gq0gw1f3dlgdivg9j30c80f5aal.jpg', '593793e5gw1f3elpsk3uhj20hs0vkaer.jpg']\n",
      "['72d63766gw1f3dteh48azj20hs0vkn0i.jpg', '684ebae3jw1f3dmz6baclj20ax06074f.jpg', '6ac50c69jw1f3erjefwyoj20hb0qndis.jpg', '6e916bdegw1f3dq8qrtckj20hm0ef0u5.jpg', '005D4gq0gw1f3dlgg18bkj30hs0vk77h.jpg', '8f9dc803jw1f3en5ttja2j20h80q3774.jpg']\n",
      "----------------\n",
      "['54a5e40dgw1f5hrauhwo9j20c80g9gmp.jpg', '6693ce84gw1f5hpcqv8ozj20c80g7jsa.jpg', 'a3d395acjw1f5i5laahqcj214v0qotgc.jpg', 'e75ad2a4jw1f5hyjbtc4vj20c80g93zl.jpg', '6cc29a93jw1f5jbkn0r0nj20go0acjte.jpg', '6f03973cgw1f5hkrlif2nj20j60pkgqm.jpg', '769e89cajw1f5hwwl59awj20c80g7t9m.jpg', '8cd8e608gw1f5hskwuev7j20j60pkwis.jpg', '513410fbjw1f5h5e3dj1lj20p20xcwnm.jpg', '9b76532djw1f5hnefe8epj20j60pkn28.jpg', '620beb06gw1f5hngcd8ebj20c80g7aay.jpg', '875d7ffajw1f5hox63b8pj20c80g9wfl.jpg', '83f4cee4gw1f5hqptgzl7j20j60pkwjh.jpg', '769e89cajw1f5hwwm1qagj20ch0g0djf.jpg', '6ada19c8jw1f5i1gl0yw9j20c80g9gmp.jpg', '63207a53jw1f5ho56id6bj20c80g9jsh.jpg', '005B6VDejw1f5id5ru5ygj30j60pkad4.jpg', 'e84cfd05jw1f5itvemje1j20c80g9dgx.jpg', '61e04755jw1f5h00bqxmpj20qo0zkdkz.jpg', '54a5e40dgw1f5hravtnaqj20c80g7gmi.jpg']\n",
      "['63207a53jw1f5ho55vra2j20c80g7jsa.jpg', '4d355e80jw1f5gtmlb9izj20k00qowhw.jpg', '5fd734e4jw1f5hmpc5k29j20go0b43zm.jpg', '006fhfuwjw1f5jclamox5j30c80g9gmp.jpg', 'e4ba8981jw1f5hvk0en3hj20c80g9gmp.jpg', '8cd8e608gw1f5hskw2tosj20j60pk0xs.jpg', '67dd74e0gw1f5ib4aacc8j20j60npaed.jpg', 'c2556596jw1f5j6iz016uj20cd3et7hj.jpg', '9b76532djw1f5hnefe8epj20j60pkn28.jpg', '56e9a168jw1f5hzfyopejj20j60pkq80.jpg', '62b963a9gw1f5hzeswgh3j20dw0iizlo.jpg', '7f1c1c22gw1f5ibrkl521j20dm0f0q4f.jpg', 'db3b4907jw1f5j1rzp4f7j20cd3etnf4.jpg']\n",
      "----------------\n",
      "['80e5c22ejw1f85xjauw63j20c80jfacj.jpg', '517fd2acgw1f84rorugt9j20qo0qotbh.jpg', '6250e764gw1f84wui56taj20ib0jc0vp.jpg', '628ffe73gw1f84yitnkcej20ib0jcwhg.jpg', '78221efbgw1f83qvbaczrj20ku112q9f.jpg', '628ffe73gw1f84yiuihbsj20eg05zmy7.jpg', '738b85begw1f85yngglvbj20ck0d9dh0.jpg', '66b630bfgw1f85r4l2zh5j20c80k6wh2.jpg', '67784e22gw1f85rtievpej20c80lp0vl.jpg', '66b630bfgw1f85r4l2mhhj20c80juq4i.jpg', '006mXsPYgw1f851omrgjmj30k00uw76w.jpg', '913ada06gw1f83xuu4mtuj20qo1bhn8g.jpg', 'a716fd45jw1f84whaal5jj20c80lqac0.jpg', '652f5916gw1f85odwwd78j20c80k6wh1.jpg', '884f7263jw1f85l3a72a7j20c80judhd.jpg', '738b85begw1f85ynhliokj20c80k6dif.jpg', 'b03da4edgw1f84qoigxyqj21a01pcqih.jpg', '628ffe73gw1f84yiqngqhj20fa0esmzi.jpg', 'a716fd45jw1f84whaaldsj20c80lp41d.jpg', '652f5916gw1f85odypvc3j20c80jujsx.jpg']\n",
      "['652f5916gw1f85odypvc3j20c80jujsx.jpg', '517fd2acgw1f84rorugt9j20qo0qotbh.jpg', 'ad194221jw1f83n1eefp8j20qx0qoq8h.jpg', 'b9a15f9djw1f84tjc30xpj20ea0ea3z5.jpg', '006mXsPYgw1f851omrgjmj30k00uw76w.jpg', '66b630bfgw1f85r4ljqmpj20c80lp415.jpg', '4b8a01b7jw1f852yolr48j20qo1be102.jpg', '738b85begw1f85ynf2h19j20c80lpacp.jpg', 'a716fd45jw1f84whaa8w0j20fa0esq5a.jpg', '78221efbgw1f83qvaipyij20ku112n2p.jpg', 'a716fd45jw1f84wha9akij20c80jf773.jpg', '78221efbgw1f83qvbaczrj20ku112q9f.jpg', '66b630bfgw1f85r4lkde1j20c80jfq5f.jpg', '80e5c22ejw1f85xjakiilj20ck0c5wfx.jpg', '80e5c22ejw1f85xjauw63j20c80jfacj.jpg']\n",
      "----------------\n",
      "['005u8wFGjw1f8ax4ixekwj30hs0dc3yu.jpg', '486f6b64gw1f86qhbkdrzj20dw07tjsa.jpg', '6b658c6bjw1f8aupgqm2vj20i70cadgj.jpg', '6b658c6bjw1f8aupgo7hej20ic0c9js2.jpg', '486f6b64gw1f86qhkmq9wg20ah05ne81.gif', '6204ece1gw1f86t90mgodj20f00d2myl.jpg', '486f6b64gw1f86qhh74asg20ah05ne81.gif', 'd45384d7jw1f86tiorbpej20cs0b474b.jpg', '736f0c7ejw1f841oltxofj20no0dc75r.jpg', '6b658c6bjw1f8aupdj66og20ct08h4qz.gif', '9e5389bbjw1f8aqiw7zf4g20ct08h4qz.gif', '486f6b64gw1f86qfu1ezgj20dc0a03z7.jpg', '486f6b64gw1f86qg7osjgj20dw07swey.jpg', '9e5389bbjw1f8aqiyn3ynj20i70ca3z5.jpg', '486f6b64gw1f86qg5u44lj20990asgmq.jpg', '486f6b64gw1f86qhig46ag20ah05n7ks.gif', '692aad1bgw1f871sqoj7uj20ez0az75l.jpg', '9e5389bbjw1f8aqiy0kxqj20i90cat9b.jpg', '9e5389bbjw1f8aqizwuynj20i80c80tq.jpg', '88432386jw1f86sv42vdtj20hs0bujs3.jpg']\n",
      "['486f6b64gw1f86qfjdn2lj20dw09875g.jpg', '692aad1bgw1f871sqoj7uj20ez0az75l.jpg', '6b658c6bjw1f8auph0e4aj20i80c8gmn.jpg', '6204ece1gw1f86t90mgodj20f00d2myl.jpg', '486f6b64gw1f86qhig46ag20ah05n7ks.gif', '9e5389bbjw1f8aqizwuynj20i80c80tq.jpg', '005u8wFGjw1f8ax4ixekwj30hs0dc3yu.jpg', '486f6b64gw1f86qg7osjgj20dw07swey.jpg']\n",
      "----------------\n",
      "['488877fcgw1f84abgywboj20j60j576l.jpg', '944cdf1fjw1f882zj6xqej206s064746.jpg', 'be66262fgw1f860j3cyr2j20k00zktav.jpg', '8e989a9cjw1f84spuw63ij20wt0wxjtp.jpg', '006et2kRgw1f83mvsd8taj30wt0ws443.jpg', 'a716fd45jw1f6tbuu1vgoj20hs1aoqag.jpg', '9dcea99bjw1f85riid1m3j20e009r3z5.jpg', 'e3091d3djw1f84lkek1s5j20b40b4js5.jpg', '9b5d1588gw1f8agw1qqmaj20bm08ut9b.jpg', '488877fcgw1f84aboab1ej20j60j1wgl.jpg', 'a716fd45jw1f6tbuu39jrj20ht2h3tnk.jpg', 'be66262fgw1f860j15ikjj21be0qodmh.jpg', '488877fcgw1f84ablsa8fj20j60j976i.jpg', '8e989a9cjw1f84spvj0qej20x50ws0vf.jpg', 'be66262fgw1f860j40uqtj21bh0qo13c.jpg', '006et2kRgw1f83mvxpb51j30ww0wn0xy.jpg', '8e989a9cjw1f84spvwtncj20wt0wstbn.jpg', '488877fcgw1f84abkhanvj20j60j8q4t.jpg', '006et2kRgw1f83mvui065j30wt0wx78u.jpg', 'be66262fgw1f860j5g2zgj21bh0qo10v.jpg']\n",
      "['be66262fgw1f860j0nxusj21be0qotek.jpg', '8e989a9cjw1f84spug1lij20ws0wx76z.jpg', '8e989a9cjw1f84sptpif7j20ww0wntbj.jpg', '005VEqiNjw1f886c34pm1j30hp0bnmyx.jpg', '9dcea99bjw1f85riid1m3j20e009r3z5.jpg', 'e7592aa5gw1f84uj41jfsj20go0m8gmq.jpg', 'a716fd45jw1f6tbuu2ypaj20hs1y3n85.jpg', 'be66262fgw1f860j4aqm4j20qo1bhk0v.jpg', '488877fcgw1f84abi4pg7j20j60iywgm.jpg', '488877fcgw1f84abgywboj20j60j576l.jpg', '81c10930jw1f83drcwncbj20qo0hota0.jpg']\n",
      "----------------\n"
     ]
    }
   ],
   "source": [
    "for event_json in json_list:\n",
    "    event_id = event_json['id']\n",
    "    event_weibo_list = event_json['weibo']\n",
    "    event_pics = []\n",
    "\n",
    "    # 提取事件中的图片\n",
    "    for weibo_dict in event_weibo_list:\n",
    "        if 'piclist' in weibo_dict.keys():\n",
    "            curr_pics = weibo_dict['piclist']\n",
    "            if curr_pics is not None:\n",
    "                for curr_pic in curr_pics:\n",
    "                    event_pics.append(curr_pic.split('/')[-1])\n",
    "\n",
    "    event_pics = list(set(event_pics))\n",
    "    \n",
    "    # 执行expect脚本文件，把src_file传给des_file\n",
    "    # 命令：expect <.sh> <src_file> <des_file>\n",
    "        \n",
    "    des_dir = 'clustering/' + event_id + '/'\n",
    "    src_dir = '/media/Data/qipeng/modified_complete_images/crawler-truth/img/'\n",
    "    \n",
    "    # 聚类之前的图片\n",
    "    print(event_pics[:20])\n",
    "    for pic in event_pics:\n",
    "        src_file = src_dir + pic\n",
    "        des_file = des_dir + '0-' + pic\n",
    "        os.system('expect scp.sh ' + src_file + ' ' + des_file)\n",
    "    \n",
    "    # 聚类之后的图片\n",
    "    print(clustered_pic_list[json_list.index(event_json)])\n",
    "    for pic in clustered_pic_list[json_list.index(event_json)]:\n",
    "        src_file = src_dir + pic\n",
    "        des_file = des_dir + '1-' + pic\n",
    "        os.system('expect scp.sh ' + src_file + ' ' + des_file)\n",
    "    \n",
    "    print('----------------')"
   ]
  },
  {
   "cell_type": "code",
   "execution_count": 7,
   "metadata": {},
   "outputs": [
    {
     "data": {
      "text/plain": [
       "0"
      ]
     },
     "execution_count": 7,
     "metadata": {},
     "output_type": "execute_result"
    }
   ],
   "source": [
    "des_dir = 'clustering/' + '04C1CE33DFEDE89DFDAFB00D2C7F49E51467841215809' + '/'\n",
    "src_dir = '/media/Data/qipeng/modified_complete_images/crawler-truth/img/'\n",
    "\n",
    "os.system('expect scp.sh ' + 'a12ff995gw1e6fgneermtj20j30q60z8.jpg' + ' ' + 'a12ff995gw1e6fgneermtj20j30q60z8.jpg')"
   ]
  },
  {
   "cell_type": "code",
   "execution_count": null,
   "metadata": {
    "collapsed": true
   },
   "outputs": [],
   "source": []
  }
 ],
 "metadata": {
  "kernelspec": {
   "display_name": "Python 3",
   "language": "python",
   "name": "python3"
  },
  "language_info": {
   "codemirror_mode": {
    "name": "ipython",
    "version": 3
   },
   "file_extension": ".py",
   "mimetype": "text/x-python",
   "name": "python",
   "nbconvert_exporter": "python",
   "pygments_lexer": "ipython3",
   "version": "3.5.3"
  }
 },
 "nbformat": 4,
 "nbformat_minor": 2
}
