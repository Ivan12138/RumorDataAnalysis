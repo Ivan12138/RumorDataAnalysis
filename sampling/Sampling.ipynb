{
 "cells": [
  {
   "cell_type": "code",
   "execution_count": 1,
   "metadata": {
    "collapsed": true
   },
   "outputs": [],
   "source": [
    "import json\n",
    "from sklearn.externals import joblib\n",
    "import random\n",
    "import numpy as np"
   ]
  },
  {
   "cell_type": "code",
   "execution_count": 2,
   "metadata": {
    "collapsed": true
   },
   "outputs": [],
   "source": [
    "events_num, weibos_num, event_weibos_num_list, global_sampling_factor, event_sampling_factor_list = joblib.load(\n",
    "        'file/pkl/event_sampling_factor.pkl')\n",
    "sampling_num_of_event, certify_num_of_event = joblib.load('file/pkl/certify_num_of_every_event.pkl')\n",
    "event_features_list = joblib.load('file/pkl/event_features.pkl')"
   ]
  },
  {
   "cell_type": "code",
   "execution_count": 4,
   "metadata": {},
   "outputs": [
    {
     "data": {
      "text/plain": [
       "(5979, 38180)"
      ]
     },
     "execution_count": 4,
     "metadata": {},
     "output_type": "execute_result"
    }
   ],
   "source": [
    "events_num, weibos_num"
   ]
  },
  {
   "cell_type": "code",
   "execution_count": 7,
   "metadata": {},
   "outputs": [
    {
     "data": {
      "text/plain": [
       "6753"
      ]
     },
     "execution_count": 7,
     "metadata": {},
     "output_type": "execute_result"
    }
   ],
   "source": [
    "sum(sampling_num_of_event)"
   ]
  },
  {
   "cell_type": "code",
   "execution_count": 9,
   "metadata": {},
   "outputs": [
    {
     "data": {
      "text/plain": [
       "6753"
      ]
     },
     "execution_count": 9,
     "metadata": {},
     "output_type": "execute_result"
    }
   ],
   "source": [
    "sum([sum(x) for x in certify_num_of_event])"
   ]
  },
  {
   "cell_type": "markdown",
   "metadata": {},
   "source": [
    "# 计算参数"
   ]
  },
  {
   "cell_type": "code",
   "execution_count": 2,
   "metadata": {
    "collapsed": true
   },
   "outputs": [],
   "source": [
    "# （5942）4439:1284:219 = 20.3 : 5.9 : 1\n",
    "                \n",
    "# Rumor Features\n",
    "rumor_weibo_sum = 7880\n",
    "rumor_certify = 5942\n",
    "rumor_0 = 4439\n",
    "rumor_1 = 1284\n",
    "rumor_2 = 219"
   ]
  },
  {
   "cell_type": "code",
   "execution_count": 117,
   "metadata": {},
   "outputs": [
    {
     "name": "stdout",
     "output_type": "stream",
     "text": [
      "采样数：7972，userCertify的分布为：(7972) 5955:1723:294 = 20.3 : 5.9 : 1\n"
     ]
    }
   ],
   "source": [
    "def get_event_certify_num(threshold=0.75):\n",
    "    events_num, weibos_num, event_weibos_num_list, global_sampling_factor, event_sampling_factor_list = joblib.load(\n",
    "        'file/pkl/event_sampling_factor.pkl')\n",
    "    # 计算在每个事件中抽取的微博数\n",
    "    raw_sampling_num_of_event = [weibos_num * global_sampling_factor * factor for factor in event_sampling_factor_list]\n",
    "    raw_sampling_num_of_event = [int(x + 0.5) for x in raw_sampling_num_of_event]\n",
    "    # sampling_num_of_event = [1 if x == 0 else x for x in sampling_num_of_event]\n",
    "\n",
    "    # 以一定的机率更新sampling为0的事件（用来调节sampling的样本数）\n",
    "    sampling_num_of_event = []\n",
    "    for sampling_num in raw_sampling_num_of_event:\n",
    "        rand = random.random()\n",
    "        if rand > threshold:\n",
    "            sampling_num = 1 if sampling_num == 0 else sampling_num\n",
    "        sampling_num_of_event.append(sampling_num)\n",
    "\n",
    "    # 计算不同的userCertify字段应该分别抽取多少微博\n",
    "    float_certify_num_of_event = [\n",
    "        [rumor_0 / rumor_certify * x, rumor_1 / rumor_certify * x, rumor_2 / rumor_certify * x]\n",
    "        for x in sampling_num_of_event]\n",
    "    certify_num_of_event = []\n",
    "    for index, float_certify_num in enumerate(float_certify_num_of_event):\n",
    "        # the last one\n",
    "        if index == len(float_certify_num_of_event) - 1:\n",
    "            certify_num_of_event.append([int(x + 1) for x in float_certify_num])\n",
    "            continue\n",
    "\n",
    "        next_float_certify_num = float_certify_num_of_event[index + 1]\n",
    "\n",
    "        certify_num = [int(x) for x in float_certify_num]\n",
    "        next_float_certify_num[0] += float_certify_num[0] - certify_num[0]\n",
    "        next_float_certify_num[1] += float_certify_num[1] - certify_num[1]\n",
    "        next_float_certify_num[2] += float_certify_num[2] - certify_num[2]\n",
    "\n",
    "        certify_num_of_event.append(certify_num)\n",
    "\n",
    "    # 更新在每个事件中抽取的微博数\n",
    "    sampling_num_of_event = [sum(x) for x in certify_num_of_event]\n",
    "\n",
    "    joblib.dump((sampling_num_of_event, certify_num_of_event), 'file/pkl/certify_num_of_every_event.pkl')\n",
    "\n",
    "    # 打印sampling的结果\n",
    "    c0 = sum([x[0] for x in certify_num_of_event])\n",
    "    c1 = sum([x[1] for x in certify_num_of_event])\n",
    "    c2 = sum([x[2] for x in certify_num_of_event])\n",
    "    print('采样数：{}，userCertify的分布为：({}) {}:{}:{} = {:.1f} : {:.1f} : 1'.format(\n",
    "        sum(sampling_num_of_event), c0 + c1 + c2, c0, c1, c2, c0 / c2, c1 / c2))\n",
    "    \n",
    "get_event_certify_num()"
   ]
  },
  {
   "cell_type": "code",
   "execution_count": 118,
   "metadata": {
    "collapsed": true
   },
   "outputs": [],
   "source": [
    "sampling_num_of_event, certify_num_of_event = joblib.load('file/pkl/certify_num_of_every_event.pkl')"
   ]
  },
  {
   "cell_type": "code",
   "execution_count": 119,
   "metadata": {},
   "outputs": [
    {
     "data": {
      "text/plain": [
       "7972"
      ]
     },
     "execution_count": 119,
     "metadata": {},
     "output_type": "execute_result"
    }
   ],
   "source": [
    "sum(sampling_num_of_event)"
   ]
  },
  {
   "cell_type": "code",
   "execution_count": 120,
   "metadata": {},
   "outputs": [
    {
     "data": {
      "text/plain": [
       "[[0, 0, 0], [4, 1, 0], [0, 0, 0], [0, 0, 0], [2, 0, 0]]"
      ]
     },
     "execution_count": 120,
     "metadata": {},
     "output_type": "execute_result"
    }
   ],
   "source": [
    "certify_num_of_event[:5]"
   ]
  },
  {
   "cell_type": "code",
   "execution_count": 121,
   "metadata": {},
   "outputs": [
    {
     "name": "stdout",
     "output_type": "stream",
     "text": [
      "(7972) 5955:1723:294 = 20.3 : 5.9 : 1\n"
     ]
    }
   ],
   "source": [
    "c0 = sum([x[0] for x in certify_num_of_event])\n",
    "c1 = sum([x[1] for x in certify_num_of_event])\n",
    "c2 = sum([x[2] for x in certify_num_of_event])\n",
    "\n",
    "print('({}) {}:{}:{} = {:.1f} : {:.1f} : 1'.format(c0+c1+c2, c0, c1,c2, c0/c2, c1/c2))"
   ]
  },
  {
   "cell_type": "markdown",
   "metadata": {},
   "source": [
    "# 查看result"
   ]
  },
  {
   "cell_type": "code",
   "execution_count": 42,
   "metadata": {
    "collapsed": true
   },
   "outputs": [],
   "source": [
    "result_certify_num_of_event, result_index_of_event = joblib.load('file/pkl/result.pkl')"
   ]
  },
  {
   "cell_type": "code",
   "execution_count": 44,
   "metadata": {},
   "outputs": [
    {
     "data": {
      "text/plain": [
       "[[2, 0, 0], [3, 1, 0], [0, 0, 0], [0, 0, 0], [2, 1, 0]]"
      ]
     },
     "execution_count": 44,
     "metadata": {},
     "output_type": "execute_result"
    }
   ],
   "source": [
    "result_certify_num_of_event[:5]"
   ]
  },
  {
   "cell_type": "code",
   "execution_count": 346,
   "metadata": {
    "collapsed": true
   },
   "outputs": [],
   "source": [
    "float_certify_num_of_event = [[1.5,1.4,5.6],[2.4,3.5,8.8]]\n",
    "# int_certify_num_of_event = [int(x + 0.5) for float_num in float_certify_num_of_event for x in float_num]\n",
    "test = [[int(a) for a in x] for x in float_certify_num_of_event]"
   ]
  },
  {
   "cell_type": "code",
   "execution_count": 347,
   "metadata": {},
   "outputs": [
    {
     "data": {
      "text/plain": [
       "[[1, 1, 5], [2, 3, 8]]"
      ]
     },
     "execution_count": 347,
     "metadata": {},
     "output_type": "execute_result"
    }
   ],
   "source": [
    "test"
   ]
  },
  {
   "cell_type": "code",
   "execution_count": 342,
   "metadata": {},
   "outputs": [
    {
     "data": {
      "text/plain": [
       "[[100, 200], [200, 400], [300, 600]]"
      ]
     },
     "execution_count": 342,
     "metadata": {},
     "output_type": "execute_result"
    }
   ],
   "source": [
    "b"
   ]
  },
  {
   "cell_type": "code",
   "execution_count": 337,
   "metadata": {},
   "outputs": [
    {
     "data": {
      "text/plain": [
       "3"
      ]
     },
     "execution_count": 337,
     "metadata": {},
     "output_type": "execute_result"
    }
   ],
   "source": [
    "e"
   ]
  },
  {
   "cell_type": "code",
   "execution_count": null,
   "metadata": {
    "collapsed": true
   },
   "outputs": [],
   "source": [
    ""
   ]
  }
 ],
 "metadata": {
  "kernelspec": {
   "display_name": "Python 3",
   "language": "python",
   "name": "python3"
  },
  "language_info": {
   "codemirror_mode": {
    "name": "ipython",
    "version": 3.0
   },
   "file_extension": ".py",
   "mimetype": "text/x-python",
   "name": "python",
   "nbconvert_exporter": "python",
   "pygments_lexer": "ipython3",
   "version": "3.5.3"
  }
 },
 "nbformat": 4,
 "nbformat_minor": 0
}