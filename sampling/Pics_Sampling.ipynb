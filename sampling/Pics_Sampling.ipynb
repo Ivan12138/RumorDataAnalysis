{
 "cells": [
  {
   "cell_type": "code",
   "execution_count": 1,
   "metadata": {
    "collapsed": true
   },
   "outputs": [],
   "source": [
    "from sklearn.externals import joblib\n",
    "import json\n",
    "import random\n",
    "\n",
    "out_dir = '../../pics_sampling_img_truth'"
   ]
  },
  {
   "cell_type": "code",
   "execution_count": 2,
   "metadata": {
    "collapsed": true
   },
   "outputs": [],
   "source": [
    "event_features_list = joblib.load('file/pkl/event_features_all.pkl')\n",
    "rumor_pics_all_num = 21963\n",
    "truth_pics_all_num = sum([event_features['pic_sum'] for event_features in event_features_list])\n",
    "\n",
    "pic_sampling_factor = [e['pic_sum'] / truth_pics_all_num for e in event_features_list]"
   ]
  },
  {
   "cell_type": "code",
   "execution_count": 13,
   "metadata": {
    "collapsed": true
   },
   "outputs": [],
   "source": [
    "pics_sampling_num_of_event = [rumor_pics_all_num * factor for factor in pic_sampling_factor]\n",
    "pics_sampling_num_of_event = [int(x + 0.7) for x in pics_sampling_num_of_event]"
   ]
  },
  {
   "cell_type": "code",
   "execution_count": 14,
   "metadata": {},
   "outputs": [
    {
     "data": {
      "text/plain": [
       "23018"
      ]
     },
     "execution_count": 14,
     "metadata": {},
     "output_type": "execute_result"
    }
   ],
   "source": [
    "sum(pics_sampling_num_of_event)"
   ]
  },
  {
   "cell_type": "code",
   "execution_count": 15,
   "metadata": {
    "collapsed": true
   },
   "outputs": [],
   "source": [
    "pics_sampling_name = []\n",
    "for i, event_features in enumerate(event_features_list):\n",
    "    pics_sampling_name += random.sample(event_features['pic_name'], pics_sampling_num_of_event[i])"
   ]
  },
  {
   "cell_type": "code",
   "execution_count": 17,
   "metadata": {},
   "outputs": [
    {
     "data": {
      "text/plain": [
       "23018"
      ]
     },
     "execution_count": 17,
     "metadata": {},
     "output_type": "execute_result"
    }
   ],
   "source": [
    "len(pics_sampling_name)"
   ]
  },
  {
   "cell_type": "code",
   "execution_count": null,
   "metadata": {
    "collapsed": true
   },
   "outputs": [],
   "source": []
  }
 ],
 "metadata": {
  "kernelspec": {
   "display_name": "Python 3",
   "language": "python",
   "name": "python3"
  },
  "language_info": {
   "codemirror_mode": {
    "name": "ipython",
    "version": 3
   },
   "file_extension": ".py",
   "mimetype": "text/x-python",
   "name": "python",
   "nbconvert_exporter": "python",
   "pygments_lexer": "ipython3",
   "version": "3.5.3"
  }
 },
 "nbformat": 4,
 "nbformat_minor": 2
}
